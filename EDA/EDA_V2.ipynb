{
  "nbformat": 4,
  "nbformat_minor": 0,
  "metadata": {
    "colab": {
      "name": "EDA_V1.ipynb",
      "provenance": [],
      "collapsed_sections": []
    },
    "kernelspec": {
      "name": "python3",
      "display_name": "Python 3"
    },
    "language_info": {
      "name": "python"
    }
  },
  "cells": [
    {
      "cell_type": "markdown",
      "source": [
        "**Title**: End to End data science application which can be leveraged by banks to assess creditworthiness, lower bad debt burden, and increase the trust in the existing data rather than document-based assessment."
      ],
      "metadata": {
        "id": "8JobkdI541Wi"
      }
    },
    {
      "cell_type": "markdown",
      "source": [
        "**Mounting google drive to load the data from common share point**"
      ],
      "metadata": {
        "id": "STMQesB47ac_"
      }
    },
    {
      "cell_type": "code",
      "execution_count": 1,
      "metadata": {
        "colab": {
          "base_uri": "https://localhost:8080/"
        },
        "id": "uvABi37oLbW3",
        "outputId": "edb29bf2-1f84-4ac6-ddeb-31e310243c5e"
      },
      "outputs": [
        {
          "output_type": "stream",
          "name": "stdout",
          "text": [
            "Mounted at /content/drive/\n"
          ]
        }
      ],
      "source": [
        "from google.colab import drive\n",
        "drive.mount('/content/drive/')"
      ]
    },
    {
      "cell_type": "markdown",
      "source": [
        "**Installing missingo library for visualizations**"
      ],
      "metadata": {
        "id": "B85xv9N77p2k"
      }
    },
    {
      "cell_type": "code",
      "source": [
        "pip install missingno"
      ],
      "metadata": {
        "colab": {
          "base_uri": "https://localhost:8080/"
        },
        "id": "NuK2ignqPajv",
        "outputId": "cbf2b8f9-cbb2-4af4-cfa3-df14216cd9bc"
      },
      "execution_count": 2,
      "outputs": [
        {
          "output_type": "stream",
          "name": "stdout",
          "text": [
            "Requirement already satisfied: missingno in /usr/local/lib/python3.7/dist-packages (0.5.0)\n",
            "Requirement already satisfied: matplotlib in /usr/local/lib/python3.7/dist-packages (from missingno) (3.2.2)\n",
            "Requirement already satisfied: seaborn in /usr/local/lib/python3.7/dist-packages (from missingno) (0.11.2)\n",
            "Requirement already satisfied: scipy in /usr/local/lib/python3.7/dist-packages (from missingno) (1.4.1)\n",
            "Requirement already satisfied: numpy in /usr/local/lib/python3.7/dist-packages (from missingno) (1.21.5)\n",
            "Requirement already satisfied: python-dateutil>=2.1 in /usr/local/lib/python3.7/dist-packages (from matplotlib->missingno) (2.8.2)\n",
            "Requirement already satisfied: pyparsing!=2.0.4,!=2.1.2,!=2.1.6,>=2.0.1 in /usr/local/lib/python3.7/dist-packages (from matplotlib->missingno) (3.0.7)\n",
            "Requirement already satisfied: kiwisolver>=1.0.1 in /usr/local/lib/python3.7/dist-packages (from matplotlib->missingno) (1.3.2)\n",
            "Requirement already satisfied: cycler>=0.10 in /usr/local/lib/python3.7/dist-packages (from matplotlib->missingno) (0.11.0)\n",
            "Requirement already satisfied: six>=1.5 in /usr/local/lib/python3.7/dist-packages (from python-dateutil>=2.1->matplotlib->missingno) (1.15.0)\n",
            "Requirement already satisfied: pandas>=0.23 in /usr/local/lib/python3.7/dist-packages (from seaborn->missingno) (1.3.5)\n",
            "Requirement already satisfied: pytz>=2017.3 in /usr/local/lib/python3.7/dist-packages (from pandas>=0.23->seaborn->missingno) (2018.9)\n"
          ]
        }
      ]
    },
    {
      "cell_type": "markdown",
      "source": [
        "**Importing necessary libraries**"
      ],
      "metadata": {
        "id": "jgiclkqq7zm3"
      }
    },
    {
      "cell_type": "code",
      "source": [
        "import pandas as pd\n",
        "import numpy as np\n",
        "import matplotlib.pyplot as plt\n",
        "import seaborn as sns\n",
        "import missingno as msno\n",
        "import warnings\n",
        "warnings.filterwarnings(\"ignore\")"
      ],
      "metadata": {
        "id": "3iKcaQZpNP0x"
      },
      "execution_count": 3,
      "outputs": []
    },
    {
      "cell_type": "markdown",
      "source": [
        "**Reading data into a dataframe**"
      ],
      "metadata": {
        "id": "Qsg_IU8s8BMm"
      }
    },
    {
      "cell_type": "code",
      "source": [
        "data=pd.read_csv('/content/drive/MyDrive/datasets/Loan_Default.csv')"
      ],
      "metadata": {
        "id": "wBzg1m91L54W"
      },
      "execution_count": 4,
      "outputs": []
    },
    {
      "cell_type": "code",
      "source": [
        "#Displaying the top rows of the dataset\n",
        "data.head()"
      ],
      "metadata": {
        "colab": {
          "base_uri": "https://localhost:8080/",
          "height": 374
        },
        "id": "P945EbhuMd7-",
        "outputId": "f9f44256-0dfe-4045-df8c-b7a6851d883e"
      },
      "execution_count": 5,
      "outputs": [
        {
          "output_type": "execute_result",
          "data": {
            "text/html": [
              "\n",
              "  <div id=\"df-67d648b1-54c1-4a39-b7f9-460e24307c4d\">\n",
              "    <div class=\"colab-df-container\">\n",
              "      <div>\n",
              "<style scoped>\n",
              "    .dataframe tbody tr th:only-of-type {\n",
              "        vertical-align: middle;\n",
              "    }\n",
              "\n",
              "    .dataframe tbody tr th {\n",
              "        vertical-align: top;\n",
              "    }\n",
              "\n",
              "    .dataframe thead th {\n",
              "        text-align: right;\n",
              "    }\n",
              "</style>\n",
              "<table border=\"1\" class=\"dataframe\">\n",
              "  <thead>\n",
              "    <tr style=\"text-align: right;\">\n",
              "      <th></th>\n",
              "      <th>ID</th>\n",
              "      <th>year</th>\n",
              "      <th>loan_limit</th>\n",
              "      <th>Gender</th>\n",
              "      <th>approv_in_adv</th>\n",
              "      <th>loan_type</th>\n",
              "      <th>loan_purpose</th>\n",
              "      <th>Credit_Worthiness</th>\n",
              "      <th>open_credit</th>\n",
              "      <th>business_or_commercial</th>\n",
              "      <th>loan_amount</th>\n",
              "      <th>rate_of_interest</th>\n",
              "      <th>Interest_rate_spread</th>\n",
              "      <th>Upfront_charges</th>\n",
              "      <th>term</th>\n",
              "      <th>Neg_ammortization</th>\n",
              "      <th>interest_only</th>\n",
              "      <th>lump_sum_payment</th>\n",
              "      <th>property_value</th>\n",
              "      <th>construction_type</th>\n",
              "      <th>occupancy_type</th>\n",
              "      <th>Secured_by</th>\n",
              "      <th>total_units</th>\n",
              "      <th>income</th>\n",
              "      <th>credit_type</th>\n",
              "      <th>Credit_Score</th>\n",
              "      <th>co-applicant_credit_type</th>\n",
              "      <th>age</th>\n",
              "      <th>submission_of_application</th>\n",
              "      <th>LTV</th>\n",
              "      <th>Region</th>\n",
              "      <th>Security_Type</th>\n",
              "      <th>Status</th>\n",
              "      <th>dtir1</th>\n",
              "    </tr>\n",
              "  </thead>\n",
              "  <tbody>\n",
              "    <tr>\n",
              "      <th>0</th>\n",
              "      <td>24890</td>\n",
              "      <td>2019</td>\n",
              "      <td>cf</td>\n",
              "      <td>Sex Not Available</td>\n",
              "      <td>nopre</td>\n",
              "      <td>type1</td>\n",
              "      <td>p1</td>\n",
              "      <td>l1</td>\n",
              "      <td>nopc</td>\n",
              "      <td>nob/c</td>\n",
              "      <td>116500</td>\n",
              "      <td>NaN</td>\n",
              "      <td>NaN</td>\n",
              "      <td>NaN</td>\n",
              "      <td>360.0</td>\n",
              "      <td>not_neg</td>\n",
              "      <td>not_int</td>\n",
              "      <td>not_lpsm</td>\n",
              "      <td>118000.0</td>\n",
              "      <td>sb</td>\n",
              "      <td>pr</td>\n",
              "      <td>home</td>\n",
              "      <td>1U</td>\n",
              "      <td>1740.0</td>\n",
              "      <td>EXP</td>\n",
              "      <td>758</td>\n",
              "      <td>CIB</td>\n",
              "      <td>25-34</td>\n",
              "      <td>to_inst</td>\n",
              "      <td>98.728814</td>\n",
              "      <td>south</td>\n",
              "      <td>direct</td>\n",
              "      <td>1</td>\n",
              "      <td>45.0</td>\n",
              "    </tr>\n",
              "    <tr>\n",
              "      <th>1</th>\n",
              "      <td>24891</td>\n",
              "      <td>2019</td>\n",
              "      <td>cf</td>\n",
              "      <td>Male</td>\n",
              "      <td>nopre</td>\n",
              "      <td>type2</td>\n",
              "      <td>p1</td>\n",
              "      <td>l1</td>\n",
              "      <td>nopc</td>\n",
              "      <td>b/c</td>\n",
              "      <td>206500</td>\n",
              "      <td>NaN</td>\n",
              "      <td>NaN</td>\n",
              "      <td>NaN</td>\n",
              "      <td>360.0</td>\n",
              "      <td>not_neg</td>\n",
              "      <td>not_int</td>\n",
              "      <td>lpsm</td>\n",
              "      <td>NaN</td>\n",
              "      <td>sb</td>\n",
              "      <td>pr</td>\n",
              "      <td>home</td>\n",
              "      <td>1U</td>\n",
              "      <td>4980.0</td>\n",
              "      <td>EQUI</td>\n",
              "      <td>552</td>\n",
              "      <td>EXP</td>\n",
              "      <td>55-64</td>\n",
              "      <td>to_inst</td>\n",
              "      <td>NaN</td>\n",
              "      <td>North</td>\n",
              "      <td>direct</td>\n",
              "      <td>1</td>\n",
              "      <td>NaN</td>\n",
              "    </tr>\n",
              "    <tr>\n",
              "      <th>2</th>\n",
              "      <td>24892</td>\n",
              "      <td>2019</td>\n",
              "      <td>cf</td>\n",
              "      <td>Male</td>\n",
              "      <td>pre</td>\n",
              "      <td>type1</td>\n",
              "      <td>p1</td>\n",
              "      <td>l1</td>\n",
              "      <td>nopc</td>\n",
              "      <td>nob/c</td>\n",
              "      <td>406500</td>\n",
              "      <td>4.56</td>\n",
              "      <td>0.2000</td>\n",
              "      <td>595.0</td>\n",
              "      <td>360.0</td>\n",
              "      <td>neg_amm</td>\n",
              "      <td>not_int</td>\n",
              "      <td>not_lpsm</td>\n",
              "      <td>508000.0</td>\n",
              "      <td>sb</td>\n",
              "      <td>pr</td>\n",
              "      <td>home</td>\n",
              "      <td>1U</td>\n",
              "      <td>9480.0</td>\n",
              "      <td>EXP</td>\n",
              "      <td>834</td>\n",
              "      <td>CIB</td>\n",
              "      <td>35-44</td>\n",
              "      <td>to_inst</td>\n",
              "      <td>80.019685</td>\n",
              "      <td>south</td>\n",
              "      <td>direct</td>\n",
              "      <td>0</td>\n",
              "      <td>46.0</td>\n",
              "    </tr>\n",
              "    <tr>\n",
              "      <th>3</th>\n",
              "      <td>24893</td>\n",
              "      <td>2019</td>\n",
              "      <td>cf</td>\n",
              "      <td>Male</td>\n",
              "      <td>nopre</td>\n",
              "      <td>type1</td>\n",
              "      <td>p4</td>\n",
              "      <td>l1</td>\n",
              "      <td>nopc</td>\n",
              "      <td>nob/c</td>\n",
              "      <td>456500</td>\n",
              "      <td>4.25</td>\n",
              "      <td>0.6810</td>\n",
              "      <td>NaN</td>\n",
              "      <td>360.0</td>\n",
              "      <td>not_neg</td>\n",
              "      <td>not_int</td>\n",
              "      <td>not_lpsm</td>\n",
              "      <td>658000.0</td>\n",
              "      <td>sb</td>\n",
              "      <td>pr</td>\n",
              "      <td>home</td>\n",
              "      <td>1U</td>\n",
              "      <td>11880.0</td>\n",
              "      <td>EXP</td>\n",
              "      <td>587</td>\n",
              "      <td>CIB</td>\n",
              "      <td>45-54</td>\n",
              "      <td>not_inst</td>\n",
              "      <td>69.376900</td>\n",
              "      <td>North</td>\n",
              "      <td>direct</td>\n",
              "      <td>0</td>\n",
              "      <td>42.0</td>\n",
              "    </tr>\n",
              "    <tr>\n",
              "      <th>4</th>\n",
              "      <td>24894</td>\n",
              "      <td>2019</td>\n",
              "      <td>cf</td>\n",
              "      <td>Joint</td>\n",
              "      <td>pre</td>\n",
              "      <td>type1</td>\n",
              "      <td>p1</td>\n",
              "      <td>l1</td>\n",
              "      <td>nopc</td>\n",
              "      <td>nob/c</td>\n",
              "      <td>696500</td>\n",
              "      <td>4.00</td>\n",
              "      <td>0.3042</td>\n",
              "      <td>0.0</td>\n",
              "      <td>360.0</td>\n",
              "      <td>not_neg</td>\n",
              "      <td>not_int</td>\n",
              "      <td>not_lpsm</td>\n",
              "      <td>758000.0</td>\n",
              "      <td>sb</td>\n",
              "      <td>pr</td>\n",
              "      <td>home</td>\n",
              "      <td>1U</td>\n",
              "      <td>10440.0</td>\n",
              "      <td>CRIF</td>\n",
              "      <td>602</td>\n",
              "      <td>EXP</td>\n",
              "      <td>25-34</td>\n",
              "      <td>not_inst</td>\n",
              "      <td>91.886544</td>\n",
              "      <td>North</td>\n",
              "      <td>direct</td>\n",
              "      <td>0</td>\n",
              "      <td>39.0</td>\n",
              "    </tr>\n",
              "  </tbody>\n",
              "</table>\n",
              "</div>\n",
              "      <button class=\"colab-df-convert\" onclick=\"convertToInteractive('df-67d648b1-54c1-4a39-b7f9-460e24307c4d')\"\n",
              "              title=\"Convert this dataframe to an interactive table.\"\n",
              "              style=\"display:none;\">\n",
              "        \n",
              "  <svg xmlns=\"http://www.w3.org/2000/svg\" height=\"24px\"viewBox=\"0 0 24 24\"\n",
              "       width=\"24px\">\n",
              "    <path d=\"M0 0h24v24H0V0z\" fill=\"none\"/>\n",
              "    <path d=\"M18.56 5.44l.94 2.06.94-2.06 2.06-.94-2.06-.94-.94-2.06-.94 2.06-2.06.94zm-11 1L8.5 8.5l.94-2.06 2.06-.94-2.06-.94L8.5 2.5l-.94 2.06-2.06.94zm10 10l.94 2.06.94-2.06 2.06-.94-2.06-.94-.94-2.06-.94 2.06-2.06.94z\"/><path d=\"M17.41 7.96l-1.37-1.37c-.4-.4-.92-.59-1.43-.59-.52 0-1.04.2-1.43.59L10.3 9.45l-7.72 7.72c-.78.78-.78 2.05 0 2.83L4 21.41c.39.39.9.59 1.41.59.51 0 1.02-.2 1.41-.59l7.78-7.78 2.81-2.81c.8-.78.8-2.07 0-2.86zM5.41 20L4 18.59l7.72-7.72 1.47 1.35L5.41 20z\"/>\n",
              "  </svg>\n",
              "      </button>\n",
              "      \n",
              "  <style>\n",
              "    .colab-df-container {\n",
              "      display:flex;\n",
              "      flex-wrap:wrap;\n",
              "      gap: 12px;\n",
              "    }\n",
              "\n",
              "    .colab-df-convert {\n",
              "      background-color: #E8F0FE;\n",
              "      border: none;\n",
              "      border-radius: 50%;\n",
              "      cursor: pointer;\n",
              "      display: none;\n",
              "      fill: #1967D2;\n",
              "      height: 32px;\n",
              "      padding: 0 0 0 0;\n",
              "      width: 32px;\n",
              "    }\n",
              "\n",
              "    .colab-df-convert:hover {\n",
              "      background-color: #E2EBFA;\n",
              "      box-shadow: 0px 1px 2px rgba(60, 64, 67, 0.3), 0px 1px 3px 1px rgba(60, 64, 67, 0.15);\n",
              "      fill: #174EA6;\n",
              "    }\n",
              "\n",
              "    [theme=dark] .colab-df-convert {\n",
              "      background-color: #3B4455;\n",
              "      fill: #D2E3FC;\n",
              "    }\n",
              "\n",
              "    [theme=dark] .colab-df-convert:hover {\n",
              "      background-color: #434B5C;\n",
              "      box-shadow: 0px 1px 3px 1px rgba(0, 0, 0, 0.15);\n",
              "      filter: drop-shadow(0px 1px 2px rgba(0, 0, 0, 0.3));\n",
              "      fill: #FFFFFF;\n",
              "    }\n",
              "  </style>\n",
              "\n",
              "      <script>\n",
              "        const buttonEl =\n",
              "          document.querySelector('#df-67d648b1-54c1-4a39-b7f9-460e24307c4d button.colab-df-convert');\n",
              "        buttonEl.style.display =\n",
              "          google.colab.kernel.accessAllowed ? 'block' : 'none';\n",
              "\n",
              "        async function convertToInteractive(key) {\n",
              "          const element = document.querySelector('#df-67d648b1-54c1-4a39-b7f9-460e24307c4d');\n",
              "          const dataTable =\n",
              "            await google.colab.kernel.invokeFunction('convertToInteractive',\n",
              "                                                     [key], {});\n",
              "          if (!dataTable) return;\n",
              "\n",
              "          const docLinkHtml = 'Like what you see? Visit the ' +\n",
              "            '<a target=\"_blank\" href=https://colab.research.google.com/notebooks/data_table.ipynb>data table notebook</a>'\n",
              "            + ' to learn more about interactive tables.';\n",
              "          element.innerHTML = '';\n",
              "          dataTable['output_type'] = 'display_data';\n",
              "          await google.colab.output.renderOutput(dataTable, element);\n",
              "          const docLink = document.createElement('div');\n",
              "          docLink.innerHTML = docLinkHtml;\n",
              "          element.appendChild(docLink);\n",
              "        }\n",
              "      </script>\n",
              "    </div>\n",
              "  </div>\n",
              "  "
            ],
            "text/plain": [
              "      ID  year loan_limit  ... Security_Type Status dtir1\n",
              "0  24890  2019         cf  ...        direct      1  45.0\n",
              "1  24891  2019         cf  ...        direct      1   NaN\n",
              "2  24892  2019         cf  ...        direct      0  46.0\n",
              "3  24893  2019         cf  ...        direct      0  42.0\n",
              "4  24894  2019         cf  ...        direct      0  39.0\n",
              "\n",
              "[5 rows x 34 columns]"
            ]
          },
          "metadata": {},
          "execution_count": 5
        }
      ]
    },
    {
      "cell_type": "markdown",
      "source": [
        "**Description of the data**"
      ],
      "metadata": {
        "id": "Jl0JBp1jOUPi"
      }
    },
    {
      "cell_type": "code",
      "source": [
        "#Displaying the columns in the dataset\n",
        "data.columns"
      ],
      "metadata": {
        "colab": {
          "base_uri": "https://localhost:8080/"
        },
        "id": "gDiGVBuuOZT2",
        "outputId": "6e287054-2164-4044-c6de-5040243634d6"
      },
      "execution_count": 6,
      "outputs": [
        {
          "output_type": "execute_result",
          "data": {
            "text/plain": [
              "Index(['ID', 'year', 'loan_limit', 'Gender', 'approv_in_adv', 'loan_type',\n",
              "       'loan_purpose', 'Credit_Worthiness', 'open_credit',\n",
              "       'business_or_commercial', 'loan_amount', 'rate_of_interest',\n",
              "       'Interest_rate_spread', 'Upfront_charges', 'term', 'Neg_ammortization',\n",
              "       'interest_only', 'lump_sum_payment', 'property_value',\n",
              "       'construction_type', 'occupancy_type', 'Secured_by', 'total_units',\n",
              "       'income', 'credit_type', 'Credit_Score', 'co-applicant_credit_type',\n",
              "       'age', 'submission_of_application', 'LTV', 'Region', 'Security_Type',\n",
              "       'Status', 'dtir1'],\n",
              "      dtype='object')"
            ]
          },
          "metadata": {},
          "execution_count": 6
        }
      ]
    },
    {
      "cell_type": "code",
      "source": [
        "#shape of the dataframe\n",
        "print(data.shape)\n",
        "print(\"Number of rows in the dataframe:\", data.shape[0])\n",
        "print(\"Number of columns in the dataframe:\", data.shape[1])"
      ],
      "metadata": {
        "colab": {
          "base_uri": "https://localhost:8080/"
        },
        "id": "SfI6e_E7Obbi",
        "outputId": "5543313a-8d16-47b7-b8e4-cd94ab4f355d"
      },
      "execution_count": 7,
      "outputs": [
        {
          "output_type": "stream",
          "name": "stdout",
          "text": [
            "(148670, 34)\n",
            "Number of rows in the dataframe: 148670\n",
            "Number of columns in the dataframe: 34\n"
          ]
        }
      ]
    },
    {
      "cell_type": "code",
      "source": [
        "#Displaying column information\n",
        "data.info()"
      ],
      "metadata": {
        "colab": {
          "base_uri": "https://localhost:8080/"
        },
        "id": "EqSGrpZNOn_M",
        "outputId": "767648ae-8240-42bf-b21e-ac4f5836c0ef"
      },
      "execution_count": 8,
      "outputs": [
        {
          "output_type": "stream",
          "name": "stdout",
          "text": [
            "<class 'pandas.core.frame.DataFrame'>\n",
            "RangeIndex: 148670 entries, 0 to 148669\n",
            "Data columns (total 34 columns):\n",
            " #   Column                     Non-Null Count   Dtype  \n",
            "---  ------                     --------------   -----  \n",
            " 0   ID                         148670 non-null  int64  \n",
            " 1   year                       148670 non-null  int64  \n",
            " 2   loan_limit                 145326 non-null  object \n",
            " 3   Gender                     148670 non-null  object \n",
            " 4   approv_in_adv              147762 non-null  object \n",
            " 5   loan_type                  148670 non-null  object \n",
            " 6   loan_purpose               148536 non-null  object \n",
            " 7   Credit_Worthiness          148670 non-null  object \n",
            " 8   open_credit                148670 non-null  object \n",
            " 9   business_or_commercial     148670 non-null  object \n",
            " 10  loan_amount                148670 non-null  int64  \n",
            " 11  rate_of_interest           112231 non-null  float64\n",
            " 12  Interest_rate_spread       112031 non-null  float64\n",
            " 13  Upfront_charges            109028 non-null  float64\n",
            " 14  term                       148629 non-null  float64\n",
            " 15  Neg_ammortization          148549 non-null  object \n",
            " 16  interest_only              148670 non-null  object \n",
            " 17  lump_sum_payment           148670 non-null  object \n",
            " 18  property_value             133572 non-null  float64\n",
            " 19  construction_type          148670 non-null  object \n",
            " 20  occupancy_type             148670 non-null  object \n",
            " 21  Secured_by                 148670 non-null  object \n",
            " 22  total_units                148670 non-null  object \n",
            " 23  income                     139520 non-null  float64\n",
            " 24  credit_type                148670 non-null  object \n",
            " 25  Credit_Score               148670 non-null  int64  \n",
            " 26  co-applicant_credit_type   148670 non-null  object \n",
            " 27  age                        148470 non-null  object \n",
            " 28  submission_of_application  148470 non-null  object \n",
            " 29  LTV                        133572 non-null  float64\n",
            " 30  Region                     148670 non-null  object \n",
            " 31  Security_Type              148670 non-null  object \n",
            " 32  Status                     148670 non-null  int64  \n",
            " 33  dtir1                      124549 non-null  float64\n",
            "dtypes: float64(8), int64(5), object(21)\n",
            "memory usage: 38.6+ MB\n"
          ]
        }
      ]
    },
    {
      "cell_type": "code",
      "source": [
        "#Displaying summary of numerical columns\n",
        "data.describe()"
      ],
      "metadata": {
        "colab": {
          "base_uri": "https://localhost:8080/",
          "height": 364
        },
        "id": "JKXQghlmOrDg",
        "outputId": "e00341ac-6807-4e99-e9a1-cadd979471e6"
      },
      "execution_count": 9,
      "outputs": [
        {
          "output_type": "execute_result",
          "data": {
            "text/html": [
              "\n",
              "  <div id=\"df-3cec9c06-361d-4eaf-8627-f026f596a876\">\n",
              "    <div class=\"colab-df-container\">\n",
              "      <div>\n",
              "<style scoped>\n",
              "    .dataframe tbody tr th:only-of-type {\n",
              "        vertical-align: middle;\n",
              "    }\n",
              "\n",
              "    .dataframe tbody tr th {\n",
              "        vertical-align: top;\n",
              "    }\n",
              "\n",
              "    .dataframe thead th {\n",
              "        text-align: right;\n",
              "    }\n",
              "</style>\n",
              "<table border=\"1\" class=\"dataframe\">\n",
              "  <thead>\n",
              "    <tr style=\"text-align: right;\">\n",
              "      <th></th>\n",
              "      <th>ID</th>\n",
              "      <th>year</th>\n",
              "      <th>loan_amount</th>\n",
              "      <th>rate_of_interest</th>\n",
              "      <th>Interest_rate_spread</th>\n",
              "      <th>Upfront_charges</th>\n",
              "      <th>term</th>\n",
              "      <th>property_value</th>\n",
              "      <th>income</th>\n",
              "      <th>Credit_Score</th>\n",
              "      <th>LTV</th>\n",
              "      <th>Status</th>\n",
              "      <th>dtir1</th>\n",
              "    </tr>\n",
              "  </thead>\n",
              "  <tbody>\n",
              "    <tr>\n",
              "      <th>count</th>\n",
              "      <td>148670.000000</td>\n",
              "      <td>148670.0</td>\n",
              "      <td>1.486700e+05</td>\n",
              "      <td>112231.000000</td>\n",
              "      <td>112031.000000</td>\n",
              "      <td>109028.000000</td>\n",
              "      <td>148629.000000</td>\n",
              "      <td>1.335720e+05</td>\n",
              "      <td>139520.000000</td>\n",
              "      <td>148670.000000</td>\n",
              "      <td>133572.000000</td>\n",
              "      <td>148670.000000</td>\n",
              "      <td>124549.000000</td>\n",
              "    </tr>\n",
              "    <tr>\n",
              "      <th>mean</th>\n",
              "      <td>99224.500000</td>\n",
              "      <td>2019.0</td>\n",
              "      <td>3.311177e+05</td>\n",
              "      <td>4.045476</td>\n",
              "      <td>0.441656</td>\n",
              "      <td>3224.996127</td>\n",
              "      <td>335.136582</td>\n",
              "      <td>4.978935e+05</td>\n",
              "      <td>6957.338876</td>\n",
              "      <td>699.789103</td>\n",
              "      <td>72.746457</td>\n",
              "      <td>0.246445</td>\n",
              "      <td>37.732932</td>\n",
              "    </tr>\n",
              "    <tr>\n",
              "      <th>std</th>\n",
              "      <td>42917.476598</td>\n",
              "      <td>0.0</td>\n",
              "      <td>1.839093e+05</td>\n",
              "      <td>0.561391</td>\n",
              "      <td>0.513043</td>\n",
              "      <td>3251.121510</td>\n",
              "      <td>58.409084</td>\n",
              "      <td>3.599353e+05</td>\n",
              "      <td>6496.586382</td>\n",
              "      <td>115.875857</td>\n",
              "      <td>39.967603</td>\n",
              "      <td>0.430942</td>\n",
              "      <td>10.545435</td>\n",
              "    </tr>\n",
              "    <tr>\n",
              "      <th>min</th>\n",
              "      <td>24890.000000</td>\n",
              "      <td>2019.0</td>\n",
              "      <td>1.650000e+04</td>\n",
              "      <td>0.000000</td>\n",
              "      <td>-3.638000</td>\n",
              "      <td>0.000000</td>\n",
              "      <td>96.000000</td>\n",
              "      <td>8.000000e+03</td>\n",
              "      <td>0.000000</td>\n",
              "      <td>500.000000</td>\n",
              "      <td>0.967478</td>\n",
              "      <td>0.000000</td>\n",
              "      <td>5.000000</td>\n",
              "    </tr>\n",
              "    <tr>\n",
              "      <th>25%</th>\n",
              "      <td>62057.250000</td>\n",
              "      <td>2019.0</td>\n",
              "      <td>1.965000e+05</td>\n",
              "      <td>3.625000</td>\n",
              "      <td>0.076000</td>\n",
              "      <td>581.490000</td>\n",
              "      <td>360.000000</td>\n",
              "      <td>2.680000e+05</td>\n",
              "      <td>3720.000000</td>\n",
              "      <td>599.000000</td>\n",
              "      <td>60.474860</td>\n",
              "      <td>0.000000</td>\n",
              "      <td>31.000000</td>\n",
              "    </tr>\n",
              "    <tr>\n",
              "      <th>50%</th>\n",
              "      <td>99224.500000</td>\n",
              "      <td>2019.0</td>\n",
              "      <td>2.965000e+05</td>\n",
              "      <td>3.990000</td>\n",
              "      <td>0.390400</td>\n",
              "      <td>2596.450000</td>\n",
              "      <td>360.000000</td>\n",
              "      <td>4.180000e+05</td>\n",
              "      <td>5760.000000</td>\n",
              "      <td>699.000000</td>\n",
              "      <td>75.135870</td>\n",
              "      <td>0.000000</td>\n",
              "      <td>39.000000</td>\n",
              "    </tr>\n",
              "    <tr>\n",
              "      <th>75%</th>\n",
              "      <td>136391.750000</td>\n",
              "      <td>2019.0</td>\n",
              "      <td>4.365000e+05</td>\n",
              "      <td>4.375000</td>\n",
              "      <td>0.775400</td>\n",
              "      <td>4812.500000</td>\n",
              "      <td>360.000000</td>\n",
              "      <td>6.280000e+05</td>\n",
              "      <td>8520.000000</td>\n",
              "      <td>800.000000</td>\n",
              "      <td>86.184211</td>\n",
              "      <td>0.000000</td>\n",
              "      <td>45.000000</td>\n",
              "    </tr>\n",
              "    <tr>\n",
              "      <th>max</th>\n",
              "      <td>173559.000000</td>\n",
              "      <td>2019.0</td>\n",
              "      <td>3.576500e+06</td>\n",
              "      <td>8.000000</td>\n",
              "      <td>3.357000</td>\n",
              "      <td>60000.000000</td>\n",
              "      <td>360.000000</td>\n",
              "      <td>1.650800e+07</td>\n",
              "      <td>578580.000000</td>\n",
              "      <td>900.000000</td>\n",
              "      <td>7831.250000</td>\n",
              "      <td>1.000000</td>\n",
              "      <td>61.000000</td>\n",
              "    </tr>\n",
              "  </tbody>\n",
              "</table>\n",
              "</div>\n",
              "      <button class=\"colab-df-convert\" onclick=\"convertToInteractive('df-3cec9c06-361d-4eaf-8627-f026f596a876')\"\n",
              "              title=\"Convert this dataframe to an interactive table.\"\n",
              "              style=\"display:none;\">\n",
              "        \n",
              "  <svg xmlns=\"http://www.w3.org/2000/svg\" height=\"24px\"viewBox=\"0 0 24 24\"\n",
              "       width=\"24px\">\n",
              "    <path d=\"M0 0h24v24H0V0z\" fill=\"none\"/>\n",
              "    <path d=\"M18.56 5.44l.94 2.06.94-2.06 2.06-.94-2.06-.94-.94-2.06-.94 2.06-2.06.94zm-11 1L8.5 8.5l.94-2.06 2.06-.94-2.06-.94L8.5 2.5l-.94 2.06-2.06.94zm10 10l.94 2.06.94-2.06 2.06-.94-2.06-.94-.94-2.06-.94 2.06-2.06.94z\"/><path d=\"M17.41 7.96l-1.37-1.37c-.4-.4-.92-.59-1.43-.59-.52 0-1.04.2-1.43.59L10.3 9.45l-7.72 7.72c-.78.78-.78 2.05 0 2.83L4 21.41c.39.39.9.59 1.41.59.51 0 1.02-.2 1.41-.59l7.78-7.78 2.81-2.81c.8-.78.8-2.07 0-2.86zM5.41 20L4 18.59l7.72-7.72 1.47 1.35L5.41 20z\"/>\n",
              "  </svg>\n",
              "      </button>\n",
              "      \n",
              "  <style>\n",
              "    .colab-df-container {\n",
              "      display:flex;\n",
              "      flex-wrap:wrap;\n",
              "      gap: 12px;\n",
              "    }\n",
              "\n",
              "    .colab-df-convert {\n",
              "      background-color: #E8F0FE;\n",
              "      border: none;\n",
              "      border-radius: 50%;\n",
              "      cursor: pointer;\n",
              "      display: none;\n",
              "      fill: #1967D2;\n",
              "      height: 32px;\n",
              "      padding: 0 0 0 0;\n",
              "      width: 32px;\n",
              "    }\n",
              "\n",
              "    .colab-df-convert:hover {\n",
              "      background-color: #E2EBFA;\n",
              "      box-shadow: 0px 1px 2px rgba(60, 64, 67, 0.3), 0px 1px 3px 1px rgba(60, 64, 67, 0.15);\n",
              "      fill: #174EA6;\n",
              "    }\n",
              "\n",
              "    [theme=dark] .colab-df-convert {\n",
              "      background-color: #3B4455;\n",
              "      fill: #D2E3FC;\n",
              "    }\n",
              "\n",
              "    [theme=dark] .colab-df-convert:hover {\n",
              "      background-color: #434B5C;\n",
              "      box-shadow: 0px 1px 3px 1px rgba(0, 0, 0, 0.15);\n",
              "      filter: drop-shadow(0px 1px 2px rgba(0, 0, 0, 0.3));\n",
              "      fill: #FFFFFF;\n",
              "    }\n",
              "  </style>\n",
              "\n",
              "      <script>\n",
              "        const buttonEl =\n",
              "          document.querySelector('#df-3cec9c06-361d-4eaf-8627-f026f596a876 button.colab-df-convert');\n",
              "        buttonEl.style.display =\n",
              "          google.colab.kernel.accessAllowed ? 'block' : 'none';\n",
              "\n",
              "        async function convertToInteractive(key) {\n",
              "          const element = document.querySelector('#df-3cec9c06-361d-4eaf-8627-f026f596a876');\n",
              "          const dataTable =\n",
              "            await google.colab.kernel.invokeFunction('convertToInteractive',\n",
              "                                                     [key], {});\n",
              "          if (!dataTable) return;\n",
              "\n",
              "          const docLinkHtml = 'Like what you see? Visit the ' +\n",
              "            '<a target=\"_blank\" href=https://colab.research.google.com/notebooks/data_table.ipynb>data table notebook</a>'\n",
              "            + ' to learn more about interactive tables.';\n",
              "          element.innerHTML = '';\n",
              "          dataTable['output_type'] = 'display_data';\n",
              "          await google.colab.output.renderOutput(dataTable, element);\n",
              "          const docLink = document.createElement('div');\n",
              "          docLink.innerHTML = docLinkHtml;\n",
              "          element.appendChild(docLink);\n",
              "        }\n",
              "      </script>\n",
              "    </div>\n",
              "  </div>\n",
              "  "
            ],
            "text/plain": [
              "                  ID      year  ...         Status          dtir1\n",
              "count  148670.000000  148670.0  ...  148670.000000  124549.000000\n",
              "mean    99224.500000    2019.0  ...       0.246445      37.732932\n",
              "std     42917.476598       0.0  ...       0.430942      10.545435\n",
              "min     24890.000000    2019.0  ...       0.000000       5.000000\n",
              "25%     62057.250000    2019.0  ...       0.000000      31.000000\n",
              "50%     99224.500000    2019.0  ...       0.000000      39.000000\n",
              "75%    136391.750000    2019.0  ...       0.000000      45.000000\n",
              "max    173559.000000    2019.0  ...       1.000000      61.000000\n",
              "\n",
              "[8 rows x 13 columns]"
            ]
          },
          "metadata": {},
          "execution_count": 9
        }
      ]
    },
    {
      "cell_type": "code",
      "source": [
        "#Displaying the description of all columns\n",
        "data.describe(include = 'all')"
      ],
      "metadata": {
        "colab": {
          "base_uri": "https://localhost:8080/",
          "height": 475
        },
        "id": "J06LRTDtOwQo",
        "outputId": "357915dc-d8b9-4bdd-89be-996e23eb97a9"
      },
      "execution_count": 10,
      "outputs": [
        {
          "output_type": "execute_result",
          "data": {
            "text/html": [
              "\n",
              "  <div id=\"df-9beebb7d-78eb-4b49-ba3e-8d9130f833b4\">\n",
              "    <div class=\"colab-df-container\">\n",
              "      <div>\n",
              "<style scoped>\n",
              "    .dataframe tbody tr th:only-of-type {\n",
              "        vertical-align: middle;\n",
              "    }\n",
              "\n",
              "    .dataframe tbody tr th {\n",
              "        vertical-align: top;\n",
              "    }\n",
              "\n",
              "    .dataframe thead th {\n",
              "        text-align: right;\n",
              "    }\n",
              "</style>\n",
              "<table border=\"1\" class=\"dataframe\">\n",
              "  <thead>\n",
              "    <tr style=\"text-align: right;\">\n",
              "      <th></th>\n",
              "      <th>ID</th>\n",
              "      <th>year</th>\n",
              "      <th>loan_limit</th>\n",
              "      <th>Gender</th>\n",
              "      <th>approv_in_adv</th>\n",
              "      <th>loan_type</th>\n",
              "      <th>loan_purpose</th>\n",
              "      <th>Credit_Worthiness</th>\n",
              "      <th>open_credit</th>\n",
              "      <th>business_or_commercial</th>\n",
              "      <th>loan_amount</th>\n",
              "      <th>rate_of_interest</th>\n",
              "      <th>Interest_rate_spread</th>\n",
              "      <th>Upfront_charges</th>\n",
              "      <th>term</th>\n",
              "      <th>Neg_ammortization</th>\n",
              "      <th>interest_only</th>\n",
              "      <th>lump_sum_payment</th>\n",
              "      <th>property_value</th>\n",
              "      <th>construction_type</th>\n",
              "      <th>occupancy_type</th>\n",
              "      <th>Secured_by</th>\n",
              "      <th>total_units</th>\n",
              "      <th>income</th>\n",
              "      <th>credit_type</th>\n",
              "      <th>Credit_Score</th>\n",
              "      <th>co-applicant_credit_type</th>\n",
              "      <th>age</th>\n",
              "      <th>submission_of_application</th>\n",
              "      <th>LTV</th>\n",
              "      <th>Region</th>\n",
              "      <th>Security_Type</th>\n",
              "      <th>Status</th>\n",
              "      <th>dtir1</th>\n",
              "    </tr>\n",
              "  </thead>\n",
              "  <tbody>\n",
              "    <tr>\n",
              "      <th>count</th>\n",
              "      <td>148670.000000</td>\n",
              "      <td>148670.0</td>\n",
              "      <td>145326</td>\n",
              "      <td>148670</td>\n",
              "      <td>147762</td>\n",
              "      <td>148670</td>\n",
              "      <td>148536</td>\n",
              "      <td>148670</td>\n",
              "      <td>148670</td>\n",
              "      <td>148670</td>\n",
              "      <td>1.486700e+05</td>\n",
              "      <td>112231.000000</td>\n",
              "      <td>112031.000000</td>\n",
              "      <td>109028.000000</td>\n",
              "      <td>148629.000000</td>\n",
              "      <td>148549</td>\n",
              "      <td>148670</td>\n",
              "      <td>148670</td>\n",
              "      <td>1.335720e+05</td>\n",
              "      <td>148670</td>\n",
              "      <td>148670</td>\n",
              "      <td>148670</td>\n",
              "      <td>148670</td>\n",
              "      <td>139520.000000</td>\n",
              "      <td>148670</td>\n",
              "      <td>148670.000000</td>\n",
              "      <td>148670</td>\n",
              "      <td>148470</td>\n",
              "      <td>148470</td>\n",
              "      <td>133572.000000</td>\n",
              "      <td>148670</td>\n",
              "      <td>148670</td>\n",
              "      <td>148670.000000</td>\n",
              "      <td>124549.000000</td>\n",
              "    </tr>\n",
              "    <tr>\n",
              "      <th>unique</th>\n",
              "      <td>NaN</td>\n",
              "      <td>NaN</td>\n",
              "      <td>2</td>\n",
              "      <td>4</td>\n",
              "      <td>2</td>\n",
              "      <td>3</td>\n",
              "      <td>4</td>\n",
              "      <td>2</td>\n",
              "      <td>2</td>\n",
              "      <td>2</td>\n",
              "      <td>NaN</td>\n",
              "      <td>NaN</td>\n",
              "      <td>NaN</td>\n",
              "      <td>NaN</td>\n",
              "      <td>NaN</td>\n",
              "      <td>2</td>\n",
              "      <td>2</td>\n",
              "      <td>2</td>\n",
              "      <td>NaN</td>\n",
              "      <td>2</td>\n",
              "      <td>3</td>\n",
              "      <td>2</td>\n",
              "      <td>4</td>\n",
              "      <td>NaN</td>\n",
              "      <td>4</td>\n",
              "      <td>NaN</td>\n",
              "      <td>2</td>\n",
              "      <td>7</td>\n",
              "      <td>2</td>\n",
              "      <td>NaN</td>\n",
              "      <td>4</td>\n",
              "      <td>2</td>\n",
              "      <td>NaN</td>\n",
              "      <td>NaN</td>\n",
              "    </tr>\n",
              "    <tr>\n",
              "      <th>top</th>\n",
              "      <td>NaN</td>\n",
              "      <td>NaN</td>\n",
              "      <td>cf</td>\n",
              "      <td>Male</td>\n",
              "      <td>nopre</td>\n",
              "      <td>type1</td>\n",
              "      <td>p3</td>\n",
              "      <td>l1</td>\n",
              "      <td>nopc</td>\n",
              "      <td>nob/c</td>\n",
              "      <td>NaN</td>\n",
              "      <td>NaN</td>\n",
              "      <td>NaN</td>\n",
              "      <td>NaN</td>\n",
              "      <td>NaN</td>\n",
              "      <td>not_neg</td>\n",
              "      <td>not_int</td>\n",
              "      <td>not_lpsm</td>\n",
              "      <td>NaN</td>\n",
              "      <td>sb</td>\n",
              "      <td>pr</td>\n",
              "      <td>home</td>\n",
              "      <td>1U</td>\n",
              "      <td>NaN</td>\n",
              "      <td>CIB</td>\n",
              "      <td>NaN</td>\n",
              "      <td>CIB</td>\n",
              "      <td>45-54</td>\n",
              "      <td>to_inst</td>\n",
              "      <td>NaN</td>\n",
              "      <td>North</td>\n",
              "      <td>direct</td>\n",
              "      <td>NaN</td>\n",
              "      <td>NaN</td>\n",
              "    </tr>\n",
              "    <tr>\n",
              "      <th>freq</th>\n",
              "      <td>NaN</td>\n",
              "      <td>NaN</td>\n",
              "      <td>135348</td>\n",
              "      <td>42346</td>\n",
              "      <td>124621</td>\n",
              "      <td>113173</td>\n",
              "      <td>55934</td>\n",
              "      <td>142344</td>\n",
              "      <td>148114</td>\n",
              "      <td>127908</td>\n",
              "      <td>NaN</td>\n",
              "      <td>NaN</td>\n",
              "      <td>NaN</td>\n",
              "      <td>NaN</td>\n",
              "      <td>NaN</td>\n",
              "      <td>133420</td>\n",
              "      <td>141560</td>\n",
              "      <td>145286</td>\n",
              "      <td>NaN</td>\n",
              "      <td>148637</td>\n",
              "      <td>138201</td>\n",
              "      <td>148637</td>\n",
              "      <td>146480</td>\n",
              "      <td>NaN</td>\n",
              "      <td>48152</td>\n",
              "      <td>NaN</td>\n",
              "      <td>74392</td>\n",
              "      <td>34720</td>\n",
              "      <td>95814</td>\n",
              "      <td>NaN</td>\n",
              "      <td>74722</td>\n",
              "      <td>148637</td>\n",
              "      <td>NaN</td>\n",
              "      <td>NaN</td>\n",
              "    </tr>\n",
              "    <tr>\n",
              "      <th>mean</th>\n",
              "      <td>99224.500000</td>\n",
              "      <td>2019.0</td>\n",
              "      <td>NaN</td>\n",
              "      <td>NaN</td>\n",
              "      <td>NaN</td>\n",
              "      <td>NaN</td>\n",
              "      <td>NaN</td>\n",
              "      <td>NaN</td>\n",
              "      <td>NaN</td>\n",
              "      <td>NaN</td>\n",
              "      <td>3.311177e+05</td>\n",
              "      <td>4.045476</td>\n",
              "      <td>0.441656</td>\n",
              "      <td>3224.996127</td>\n",
              "      <td>335.136582</td>\n",
              "      <td>NaN</td>\n",
              "      <td>NaN</td>\n",
              "      <td>NaN</td>\n",
              "      <td>4.978935e+05</td>\n",
              "      <td>NaN</td>\n",
              "      <td>NaN</td>\n",
              "      <td>NaN</td>\n",
              "      <td>NaN</td>\n",
              "      <td>6957.338876</td>\n",
              "      <td>NaN</td>\n",
              "      <td>699.789103</td>\n",
              "      <td>NaN</td>\n",
              "      <td>NaN</td>\n",
              "      <td>NaN</td>\n",
              "      <td>72.746457</td>\n",
              "      <td>NaN</td>\n",
              "      <td>NaN</td>\n",
              "      <td>0.246445</td>\n",
              "      <td>37.732932</td>\n",
              "    </tr>\n",
              "    <tr>\n",
              "      <th>std</th>\n",
              "      <td>42917.476598</td>\n",
              "      <td>0.0</td>\n",
              "      <td>NaN</td>\n",
              "      <td>NaN</td>\n",
              "      <td>NaN</td>\n",
              "      <td>NaN</td>\n",
              "      <td>NaN</td>\n",
              "      <td>NaN</td>\n",
              "      <td>NaN</td>\n",
              "      <td>NaN</td>\n",
              "      <td>1.839093e+05</td>\n",
              "      <td>0.561391</td>\n",
              "      <td>0.513043</td>\n",
              "      <td>3251.121510</td>\n",
              "      <td>58.409084</td>\n",
              "      <td>NaN</td>\n",
              "      <td>NaN</td>\n",
              "      <td>NaN</td>\n",
              "      <td>3.599353e+05</td>\n",
              "      <td>NaN</td>\n",
              "      <td>NaN</td>\n",
              "      <td>NaN</td>\n",
              "      <td>NaN</td>\n",
              "      <td>6496.586382</td>\n",
              "      <td>NaN</td>\n",
              "      <td>115.875857</td>\n",
              "      <td>NaN</td>\n",
              "      <td>NaN</td>\n",
              "      <td>NaN</td>\n",
              "      <td>39.967603</td>\n",
              "      <td>NaN</td>\n",
              "      <td>NaN</td>\n",
              "      <td>0.430942</td>\n",
              "      <td>10.545435</td>\n",
              "    </tr>\n",
              "    <tr>\n",
              "      <th>min</th>\n",
              "      <td>24890.000000</td>\n",
              "      <td>2019.0</td>\n",
              "      <td>NaN</td>\n",
              "      <td>NaN</td>\n",
              "      <td>NaN</td>\n",
              "      <td>NaN</td>\n",
              "      <td>NaN</td>\n",
              "      <td>NaN</td>\n",
              "      <td>NaN</td>\n",
              "      <td>NaN</td>\n",
              "      <td>1.650000e+04</td>\n",
              "      <td>0.000000</td>\n",
              "      <td>-3.638000</td>\n",
              "      <td>0.000000</td>\n",
              "      <td>96.000000</td>\n",
              "      <td>NaN</td>\n",
              "      <td>NaN</td>\n",
              "      <td>NaN</td>\n",
              "      <td>8.000000e+03</td>\n",
              "      <td>NaN</td>\n",
              "      <td>NaN</td>\n",
              "      <td>NaN</td>\n",
              "      <td>NaN</td>\n",
              "      <td>0.000000</td>\n",
              "      <td>NaN</td>\n",
              "      <td>500.000000</td>\n",
              "      <td>NaN</td>\n",
              "      <td>NaN</td>\n",
              "      <td>NaN</td>\n",
              "      <td>0.967478</td>\n",
              "      <td>NaN</td>\n",
              "      <td>NaN</td>\n",
              "      <td>0.000000</td>\n",
              "      <td>5.000000</td>\n",
              "    </tr>\n",
              "    <tr>\n",
              "      <th>25%</th>\n",
              "      <td>62057.250000</td>\n",
              "      <td>2019.0</td>\n",
              "      <td>NaN</td>\n",
              "      <td>NaN</td>\n",
              "      <td>NaN</td>\n",
              "      <td>NaN</td>\n",
              "      <td>NaN</td>\n",
              "      <td>NaN</td>\n",
              "      <td>NaN</td>\n",
              "      <td>NaN</td>\n",
              "      <td>1.965000e+05</td>\n",
              "      <td>3.625000</td>\n",
              "      <td>0.076000</td>\n",
              "      <td>581.490000</td>\n",
              "      <td>360.000000</td>\n",
              "      <td>NaN</td>\n",
              "      <td>NaN</td>\n",
              "      <td>NaN</td>\n",
              "      <td>2.680000e+05</td>\n",
              "      <td>NaN</td>\n",
              "      <td>NaN</td>\n",
              "      <td>NaN</td>\n",
              "      <td>NaN</td>\n",
              "      <td>3720.000000</td>\n",
              "      <td>NaN</td>\n",
              "      <td>599.000000</td>\n",
              "      <td>NaN</td>\n",
              "      <td>NaN</td>\n",
              "      <td>NaN</td>\n",
              "      <td>60.474860</td>\n",
              "      <td>NaN</td>\n",
              "      <td>NaN</td>\n",
              "      <td>0.000000</td>\n",
              "      <td>31.000000</td>\n",
              "    </tr>\n",
              "    <tr>\n",
              "      <th>50%</th>\n",
              "      <td>99224.500000</td>\n",
              "      <td>2019.0</td>\n",
              "      <td>NaN</td>\n",
              "      <td>NaN</td>\n",
              "      <td>NaN</td>\n",
              "      <td>NaN</td>\n",
              "      <td>NaN</td>\n",
              "      <td>NaN</td>\n",
              "      <td>NaN</td>\n",
              "      <td>NaN</td>\n",
              "      <td>2.965000e+05</td>\n",
              "      <td>3.990000</td>\n",
              "      <td>0.390400</td>\n",
              "      <td>2596.450000</td>\n",
              "      <td>360.000000</td>\n",
              "      <td>NaN</td>\n",
              "      <td>NaN</td>\n",
              "      <td>NaN</td>\n",
              "      <td>4.180000e+05</td>\n",
              "      <td>NaN</td>\n",
              "      <td>NaN</td>\n",
              "      <td>NaN</td>\n",
              "      <td>NaN</td>\n",
              "      <td>5760.000000</td>\n",
              "      <td>NaN</td>\n",
              "      <td>699.000000</td>\n",
              "      <td>NaN</td>\n",
              "      <td>NaN</td>\n",
              "      <td>NaN</td>\n",
              "      <td>75.135870</td>\n",
              "      <td>NaN</td>\n",
              "      <td>NaN</td>\n",
              "      <td>0.000000</td>\n",
              "      <td>39.000000</td>\n",
              "    </tr>\n",
              "    <tr>\n",
              "      <th>75%</th>\n",
              "      <td>136391.750000</td>\n",
              "      <td>2019.0</td>\n",
              "      <td>NaN</td>\n",
              "      <td>NaN</td>\n",
              "      <td>NaN</td>\n",
              "      <td>NaN</td>\n",
              "      <td>NaN</td>\n",
              "      <td>NaN</td>\n",
              "      <td>NaN</td>\n",
              "      <td>NaN</td>\n",
              "      <td>4.365000e+05</td>\n",
              "      <td>4.375000</td>\n",
              "      <td>0.775400</td>\n",
              "      <td>4812.500000</td>\n",
              "      <td>360.000000</td>\n",
              "      <td>NaN</td>\n",
              "      <td>NaN</td>\n",
              "      <td>NaN</td>\n",
              "      <td>6.280000e+05</td>\n",
              "      <td>NaN</td>\n",
              "      <td>NaN</td>\n",
              "      <td>NaN</td>\n",
              "      <td>NaN</td>\n",
              "      <td>8520.000000</td>\n",
              "      <td>NaN</td>\n",
              "      <td>800.000000</td>\n",
              "      <td>NaN</td>\n",
              "      <td>NaN</td>\n",
              "      <td>NaN</td>\n",
              "      <td>86.184211</td>\n",
              "      <td>NaN</td>\n",
              "      <td>NaN</td>\n",
              "      <td>0.000000</td>\n",
              "      <td>45.000000</td>\n",
              "    </tr>\n",
              "    <tr>\n",
              "      <th>max</th>\n",
              "      <td>173559.000000</td>\n",
              "      <td>2019.0</td>\n",
              "      <td>NaN</td>\n",
              "      <td>NaN</td>\n",
              "      <td>NaN</td>\n",
              "      <td>NaN</td>\n",
              "      <td>NaN</td>\n",
              "      <td>NaN</td>\n",
              "      <td>NaN</td>\n",
              "      <td>NaN</td>\n",
              "      <td>3.576500e+06</td>\n",
              "      <td>8.000000</td>\n",
              "      <td>3.357000</td>\n",
              "      <td>60000.000000</td>\n",
              "      <td>360.000000</td>\n",
              "      <td>NaN</td>\n",
              "      <td>NaN</td>\n",
              "      <td>NaN</td>\n",
              "      <td>1.650800e+07</td>\n",
              "      <td>NaN</td>\n",
              "      <td>NaN</td>\n",
              "      <td>NaN</td>\n",
              "      <td>NaN</td>\n",
              "      <td>578580.000000</td>\n",
              "      <td>NaN</td>\n",
              "      <td>900.000000</td>\n",
              "      <td>NaN</td>\n",
              "      <td>NaN</td>\n",
              "      <td>NaN</td>\n",
              "      <td>7831.250000</td>\n",
              "      <td>NaN</td>\n",
              "      <td>NaN</td>\n",
              "      <td>1.000000</td>\n",
              "      <td>61.000000</td>\n",
              "    </tr>\n",
              "  </tbody>\n",
              "</table>\n",
              "</div>\n",
              "      <button class=\"colab-df-convert\" onclick=\"convertToInteractive('df-9beebb7d-78eb-4b49-ba3e-8d9130f833b4')\"\n",
              "              title=\"Convert this dataframe to an interactive table.\"\n",
              "              style=\"display:none;\">\n",
              "        \n",
              "  <svg xmlns=\"http://www.w3.org/2000/svg\" height=\"24px\"viewBox=\"0 0 24 24\"\n",
              "       width=\"24px\">\n",
              "    <path d=\"M0 0h24v24H0V0z\" fill=\"none\"/>\n",
              "    <path d=\"M18.56 5.44l.94 2.06.94-2.06 2.06-.94-2.06-.94-.94-2.06-.94 2.06-2.06.94zm-11 1L8.5 8.5l.94-2.06 2.06-.94-2.06-.94L8.5 2.5l-.94 2.06-2.06.94zm10 10l.94 2.06.94-2.06 2.06-.94-2.06-.94-.94-2.06-.94 2.06-2.06.94z\"/><path d=\"M17.41 7.96l-1.37-1.37c-.4-.4-.92-.59-1.43-.59-.52 0-1.04.2-1.43.59L10.3 9.45l-7.72 7.72c-.78.78-.78 2.05 0 2.83L4 21.41c.39.39.9.59 1.41.59.51 0 1.02-.2 1.41-.59l7.78-7.78 2.81-2.81c.8-.78.8-2.07 0-2.86zM5.41 20L4 18.59l7.72-7.72 1.47 1.35L5.41 20z\"/>\n",
              "  </svg>\n",
              "      </button>\n",
              "      \n",
              "  <style>\n",
              "    .colab-df-container {\n",
              "      display:flex;\n",
              "      flex-wrap:wrap;\n",
              "      gap: 12px;\n",
              "    }\n",
              "\n",
              "    .colab-df-convert {\n",
              "      background-color: #E8F0FE;\n",
              "      border: none;\n",
              "      border-radius: 50%;\n",
              "      cursor: pointer;\n",
              "      display: none;\n",
              "      fill: #1967D2;\n",
              "      height: 32px;\n",
              "      padding: 0 0 0 0;\n",
              "      width: 32px;\n",
              "    }\n",
              "\n",
              "    .colab-df-convert:hover {\n",
              "      background-color: #E2EBFA;\n",
              "      box-shadow: 0px 1px 2px rgba(60, 64, 67, 0.3), 0px 1px 3px 1px rgba(60, 64, 67, 0.15);\n",
              "      fill: #174EA6;\n",
              "    }\n",
              "\n",
              "    [theme=dark] .colab-df-convert {\n",
              "      background-color: #3B4455;\n",
              "      fill: #D2E3FC;\n",
              "    }\n",
              "\n",
              "    [theme=dark] .colab-df-convert:hover {\n",
              "      background-color: #434B5C;\n",
              "      box-shadow: 0px 1px 3px 1px rgba(0, 0, 0, 0.15);\n",
              "      filter: drop-shadow(0px 1px 2px rgba(0, 0, 0, 0.3));\n",
              "      fill: #FFFFFF;\n",
              "    }\n",
              "  </style>\n",
              "\n",
              "      <script>\n",
              "        const buttonEl =\n",
              "          document.querySelector('#df-9beebb7d-78eb-4b49-ba3e-8d9130f833b4 button.colab-df-convert');\n",
              "        buttonEl.style.display =\n",
              "          google.colab.kernel.accessAllowed ? 'block' : 'none';\n",
              "\n",
              "        async function convertToInteractive(key) {\n",
              "          const element = document.querySelector('#df-9beebb7d-78eb-4b49-ba3e-8d9130f833b4');\n",
              "          const dataTable =\n",
              "            await google.colab.kernel.invokeFunction('convertToInteractive',\n",
              "                                                     [key], {});\n",
              "          if (!dataTable) return;\n",
              "\n",
              "          const docLinkHtml = 'Like what you see? Visit the ' +\n",
              "            '<a target=\"_blank\" href=https://colab.research.google.com/notebooks/data_table.ipynb>data table notebook</a>'\n",
              "            + ' to learn more about interactive tables.';\n",
              "          element.innerHTML = '';\n",
              "          dataTable['output_type'] = 'display_data';\n",
              "          await google.colab.output.renderOutput(dataTable, element);\n",
              "          const docLink = document.createElement('div');\n",
              "          docLink.innerHTML = docLinkHtml;\n",
              "          element.appendChild(docLink);\n",
              "        }\n",
              "      </script>\n",
              "    </div>\n",
              "  </div>\n",
              "  "
            ],
            "text/plain": [
              "                   ID      year  ...         Status          dtir1\n",
              "count   148670.000000  148670.0  ...  148670.000000  124549.000000\n",
              "unique            NaN       NaN  ...            NaN            NaN\n",
              "top               NaN       NaN  ...            NaN            NaN\n",
              "freq              NaN       NaN  ...            NaN            NaN\n",
              "mean     99224.500000    2019.0  ...       0.246445      37.732932\n",
              "std      42917.476598       0.0  ...       0.430942      10.545435\n",
              "min      24890.000000    2019.0  ...       0.000000       5.000000\n",
              "25%      62057.250000    2019.0  ...       0.000000      31.000000\n",
              "50%      99224.500000    2019.0  ...       0.000000      39.000000\n",
              "75%     136391.750000    2019.0  ...       0.000000      45.000000\n",
              "max     173559.000000    2019.0  ...       1.000000      61.000000\n",
              "\n",
              "[11 rows x 34 columns]"
            ]
          },
          "metadata": {},
          "execution_count": 10
        }
      ]
    },
    {
      "cell_type": "code",
      "source": [
        "#Displaying the missing values in each column\n",
        "msno.bar(data)"
      ],
      "metadata": {
        "colab": {
          "base_uri": "https://localhost:8080/",
          "height": 712
        },
        "id": "C3xFHhgQOzh-",
        "outputId": "29dc259c-b812-4d61-fb5c-2fb243eff25d"
      },
      "execution_count": 11,
      "outputs": [
        {
          "output_type": "execute_result",
          "data": {
            "text/plain": [
              "<matplotlib.axes._subplots.AxesSubplot at 0x7fbb552621d0>"
            ]
          },
          "metadata": {},
          "execution_count": 11
        },
        {
          "output_type": "display_data",
          "data": {
            "image/png": "[encoded data removed]",
            "text/plain": [
              "<Figure size 1800x720 with 3 Axes>"
            ]
          },
          "metadata": {
            "needs_background": "light"
          }
        }
      ]
    },
    {
      "cell_type": "markdown",
      "source": [
        "**Inferences:**\n",
        "\n",
        "The columns rate_of_interest, interest_rate_spread, upfront_charges, property_value has missing values which can be seen as the gaps in the column bars"
      ],
      "metadata": {
        "id": "8dSDTYe09cCR"
      }
    },
    {
      "cell_type": "markdown",
      "source": [
        "**Correcting column data types**"
      ],
      "metadata": {
        "id": "INmpBJsv9l7O"
      }
    },
    {
      "cell_type": "code",
      "source": [
        "#cleaning of columns and chaning to appropriate data types\n",
        "data1=data.copy(deep=True)\n",
        "data1['Gender']=data1['Gender'].astype('category')\n",
        "data1['approv_in_adv']=data1['approv_in_adv'].astype('category')\n",
        "data1['loan_limit']=data1['loan_limit'].astype('category')\n",
        "data1['loan_type']=data1['loan_type'].astype('category')\n",
        "data1['loan_purpose']=data1['loan_purpose'].astype('category')\n",
        "data1['Credit_Worthiness']=data1['Credit_Worthiness'].astype('category')\n",
        "data1['open_credit']=data1['open_credit'].astype('category')\n",
        "data1['business_or_commercial']=data1['business_or_commercial'].astype('category')\n",
        "data1['Neg_ammortization']=data1['Neg_ammortization'].astype('category')\n",
        "data1['interest_only']=data1['interest_only'].astype('category')\n",
        "data1['lump_sum_payment']=data1['lump_sum_payment'].astype('category')\n",
        "data1['construction_type']=data1['construction_type'].astype('category')\n",
        "data1['occupancy_type']=data1['occupancy_type'].astype('category')\n",
        "data1['Secured_by']=data1['Secured_by'].astype('category')\n",
        "data1['total_units']=data1['total_units'].astype('category')\n",
        "data1['credit_type']=data1['credit_type'].astype('category')\n",
        "data1['co-applicant_credit_type']=data1['co-applicant_credit_type'].astype('category')\n",
        "data1['submission_of_application']=data1['submission_of_application'].astype('category')\n",
        "data1['Region']=data1['Region'].astype('category')\n",
        "data1['Security_Type']=data1['Security_Type'].astype('category')\n",
        "\n"
      ],
      "metadata": {
        "id": "ctWoBeb7QX5x"
      },
      "execution_count": 12,
      "outputs": []
    },
    {
      "cell_type": "code",
      "source": [
        "#5 number summary of Numerical Columns\n",
        "data1.describe(percentiles=[0.25,0.50,0.75,0.85,0.95])"
      ],
      "metadata": {
        "colab": {
          "base_uri": "https://localhost:8080/",
          "height": 427
        },
        "id": "Ax4kS_ABkw85",
        "outputId": "c82121d0-879a-4632-dde7-fca952d36538"
      },
      "execution_count": 13,
      "outputs": [
        {
          "output_type": "execute_result",
          "data": {
            "text/html": [
              "\n",
              "  <div id=\"df-9ade0b86-c8f9-4a40-a253-1d23f1f80480\">\n",
              "    <div class=\"colab-df-container\">\n",
              "      <div>\n",
              "<style scoped>\n",
              "    .dataframe tbody tr th:only-of-type {\n",
              "        vertical-align: middle;\n",
              "    }\n",
              "\n",
              "    .dataframe tbody tr th {\n",
              "        vertical-align: top;\n",
              "    }\n",
              "\n",
              "    .dataframe thead th {\n",
              "        text-align: right;\n",
              "    }\n",
              "</style>\n",
              "<table border=\"1\" class=\"dataframe\">\n",
              "  <thead>\n",
              "    <tr style=\"text-align: right;\">\n",
              "      <th></th>\n",
              "      <th>ID</th>\n",
              "      <th>year</th>\n",
              "      <th>loan_amount</th>\n",
              "      <th>rate_of_interest</th>\n",
              "      <th>Interest_rate_spread</th>\n",
              "      <th>Upfront_charges</th>\n",
              "      <th>term</th>\n",
              "      <th>property_value</th>\n",
              "      <th>income</th>\n",
              "      <th>Credit_Score</th>\n",
              "      <th>LTV</th>\n",
              "      <th>Status</th>\n",
              "      <th>dtir1</th>\n",
              "    </tr>\n",
              "  </thead>\n",
              "  <tbody>\n",
              "    <tr>\n",
              "      <th>count</th>\n",
              "      <td>148670.000000</td>\n",
              "      <td>148670.0</td>\n",
              "      <td>1.486700e+05</td>\n",
              "      <td>112231.000000</td>\n",
              "      <td>112031.000000</td>\n",
              "      <td>109028.000000</td>\n",
              "      <td>148629.000000</td>\n",
              "      <td>1.335720e+05</td>\n",
              "      <td>139520.000000</td>\n",
              "      <td>148670.000000</td>\n",
              "      <td>133572.000000</td>\n",
              "      <td>148670.000000</td>\n",
              "      <td>124549.000000</td>\n",
              "    </tr>\n",
              "    <tr>\n",
              "      <th>mean</th>\n",
              "      <td>99224.500000</td>\n",
              "      <td>2019.0</td>\n",
              "      <td>3.311177e+05</td>\n",
              "      <td>4.045476</td>\n",
              "      <td>0.441656</td>\n",
              "      <td>3224.996127</td>\n",
              "      <td>335.136582</td>\n",
              "      <td>4.978935e+05</td>\n",
              "      <td>6957.338876</td>\n",
              "      <td>699.789103</td>\n",
              "      <td>72.746457</td>\n",
              "      <td>0.246445</td>\n",
              "      <td>37.732932</td>\n",
              "    </tr>\n",
              "    <tr>\n",
              "      <th>std</th>\n",
              "      <td>42917.476598</td>\n",
              "      <td>0.0</td>\n",
              "      <td>1.839093e+05</td>\n",
              "      <td>0.561391</td>\n",
              "      <td>0.513043</td>\n",
              "      <td>3251.121510</td>\n",
              "      <td>58.409084</td>\n",
              "      <td>3.599353e+05</td>\n",
              "      <td>6496.586382</td>\n",
              "      <td>115.875857</td>\n",
              "      <td>39.967603</td>\n",
              "      <td>0.430942</td>\n",
              "      <td>10.545435</td>\n",
              "    </tr>\n",
              "    <tr>\n",
              "      <th>min</th>\n",
              "      <td>24890.000000</td>\n",
              "      <td>2019.0</td>\n",
              "      <td>1.650000e+04</td>\n",
              "      <td>0.000000</td>\n",
              "      <td>-3.638000</td>\n",
              "      <td>0.000000</td>\n",
              "      <td>96.000000</td>\n",
              "      <td>8.000000e+03</td>\n",
              "      <td>0.000000</td>\n",
              "      <td>500.000000</td>\n",
              "      <td>0.967478</td>\n",
              "      <td>0.000000</td>\n",
              "      <td>5.000000</td>\n",
              "    </tr>\n",
              "    <tr>\n",
              "      <th>25%</th>\n",
              "      <td>62057.250000</td>\n",
              "      <td>2019.0</td>\n",
              "      <td>1.965000e+05</td>\n",
              "      <td>3.625000</td>\n",
              "      <td>0.076000</td>\n",
              "      <td>581.490000</td>\n",
              "      <td>360.000000</td>\n",
              "      <td>2.680000e+05</td>\n",
              "      <td>3720.000000</td>\n",
              "      <td>599.000000</td>\n",
              "      <td>60.474860</td>\n",
              "      <td>0.000000</td>\n",
              "      <td>31.000000</td>\n",
              "    </tr>\n",
              "    <tr>\n",
              "      <th>50%</th>\n",
              "      <td>99224.500000</td>\n",
              "      <td>2019.0</td>\n",
              "      <td>2.965000e+05</td>\n",
              "      <td>3.990000</td>\n",
              "      <td>0.390400</td>\n",
              "      <td>2596.450000</td>\n",
              "      <td>360.000000</td>\n",
              "      <td>4.180000e+05</td>\n",
              "      <td>5760.000000</td>\n",
              "      <td>699.000000</td>\n",
              "      <td>75.135870</td>\n",
              "      <td>0.000000</td>\n",
              "      <td>39.000000</td>\n",
              "    </tr>\n",
              "    <tr>\n",
              "      <th>75%</th>\n",
              "      <td>136391.750000</td>\n",
              "      <td>2019.0</td>\n",
              "      <td>4.365000e+05</td>\n",
              "      <td>4.375000</td>\n",
              "      <td>0.775400</td>\n",
              "      <td>4812.500000</td>\n",
              "      <td>360.000000</td>\n",
              "      <td>6.280000e+05</td>\n",
              "      <td>8520.000000</td>\n",
              "      <td>800.000000</td>\n",
              "      <td>86.184211</td>\n",
              "      <td>0.000000</td>\n",
              "      <td>45.000000</td>\n",
              "    </tr>\n",
              "    <tr>\n",
              "      <th>85%</th>\n",
              "      <td>151258.650000</td>\n",
              "      <td>2019.0</td>\n",
              "      <td>5.065000e+05</td>\n",
              "      <td>4.625000</td>\n",
              "      <td>1.025000</td>\n",
              "      <td>6221.345000</td>\n",
              "      <td>360.000000</td>\n",
              "      <td>7.580000e+05</td>\n",
              "      <td>10500.000000</td>\n",
              "      <td>840.000000</td>\n",
              "      <td>92.721519</td>\n",
              "      <td>1.000000</td>\n",
              "      <td>48.000000</td>\n",
              "    </tr>\n",
              "    <tr>\n",
              "      <th>95%</th>\n",
              "      <td>166125.550000</td>\n",
              "      <td>2019.0</td>\n",
              "      <td>6.565000e+05</td>\n",
              "      <td>4.990000</td>\n",
              "      <td>1.379400</td>\n",
              "      <td>9272.688500</td>\n",
              "      <td>360.000000</td>\n",
              "      <td>1.058000e+06</td>\n",
              "      <td>15420.000000</td>\n",
              "      <td>881.000000</td>\n",
              "      <td>98.728814</td>\n",
              "      <td>1.000000</td>\n",
              "      <td>54.000000</td>\n",
              "    </tr>\n",
              "    <tr>\n",
              "      <th>max</th>\n",
              "      <td>173559.000000</td>\n",
              "      <td>2019.0</td>\n",
              "      <td>3.576500e+06</td>\n",
              "      <td>8.000000</td>\n",
              "      <td>3.357000</td>\n",
              "      <td>60000.000000</td>\n",
              "      <td>360.000000</td>\n",
              "      <td>1.650800e+07</td>\n",
              "      <td>578580.000000</td>\n",
              "      <td>900.000000</td>\n",
              "      <td>7831.250000</td>\n",
              "      <td>1.000000</td>\n",
              "      <td>61.000000</td>\n",
              "    </tr>\n",
              "  </tbody>\n",
              "</table>\n",
              "</div>\n",
              "      <button class=\"colab-df-convert\" onclick=\"convertToInteractive('df-9ade0b86-c8f9-4a40-a253-1d23f1f80480')\"\n",
              "              title=\"Convert this dataframe to an interactive table.\"\n",
              "              style=\"display:none;\">\n",
              "        \n",
              "  <svg xmlns=\"http://www.w3.org/2000/svg\" height=\"24px\"viewBox=\"0 0 24 24\"\n",
              "       width=\"24px\">\n",
              "    <path d=\"M0 0h24v24H0V0z\" fill=\"none\"/>\n",
              "    <path d=\"M18.56 5.44l.94 2.06.94-2.06 2.06-.94-2.06-.94-.94-2.06-.94 2.06-2.06.94zm-11 1L8.5 8.5l.94-2.06 2.06-.94-2.06-.94L8.5 2.5l-.94 2.06-2.06.94zm10 10l.94 2.06.94-2.06 2.06-.94-2.06-.94-.94-2.06-.94 2.06-2.06.94z\"/><path d=\"M17.41 7.96l-1.37-1.37c-.4-.4-.92-.59-1.43-.59-.52 0-1.04.2-1.43.59L10.3 9.45l-7.72 7.72c-.78.78-.78 2.05 0 2.83L4 21.41c.39.39.9.59 1.41.59.51 0 1.02-.2 1.41-.59l7.78-7.78 2.81-2.81c.8-.78.8-2.07 0-2.86zM5.41 20L4 18.59l7.72-7.72 1.47 1.35L5.41 20z\"/>\n",
              "  </svg>\n",
              "      </button>\n",
              "      \n",
              "  <style>\n",
              "    .colab-df-container {\n",
              "      display:flex;\n",
              "      flex-wrap:wrap;\n",
              "      gap: 12px;\n",
              "    }\n",
              "\n",
              "    .colab-df-convert {\n",
              "      background-color: #E8F0FE;\n",
              "      border: none;\n",
              "      border-radius: 50%;\n",
              "      cursor: pointer;\n",
              "      display: none;\n",
              "      fill: #1967D2;\n",
              "      height: 32px;\n",
              "      padding: 0 0 0 0;\n",
              "      width: 32px;\n",
              "    }\n",
              "\n",
              "    .colab-df-convert:hover {\n",
              "      background-color: #E2EBFA;\n",
              "      box-shadow: 0px 1px 2px rgba(60, 64, 67, 0.3), 0px 1px 3px 1px rgba(60, 64, 67, 0.15);\n",
              "      fill: #174EA6;\n",
              "    }\n",
              "\n",
              "    [theme=dark] .colab-df-convert {\n",
              "      background-color: #3B4455;\n",
              "      fill: #D2E3FC;\n",
              "    }\n",
              "\n",
              "    [theme=dark] .colab-df-convert:hover {\n",
              "      background-color: #434B5C;\n",
              "      box-shadow: 0px 1px 3px 1px rgba(0, 0, 0, 0.15);\n",
              "      filter: drop-shadow(0px 1px 2px rgba(0, 0, 0, 0.3));\n",
              "      fill: #FFFFFF;\n",
              "    }\n",
              "  </style>\n",
              "\n",
              "      <script>\n",
              "        const buttonEl =\n",
              "          document.querySelector('#df-9ade0b86-c8f9-4a40-a253-1d23f1f80480 button.colab-df-convert');\n",
              "        buttonEl.style.display =\n",
              "          google.colab.kernel.accessAllowed ? 'block' : 'none';\n",
              "\n",
              "        async function convertToInteractive(key) {\n",
              "          const element = document.querySelector('#df-9ade0b86-c8f9-4a40-a253-1d23f1f80480');\n",
              "          const dataTable =\n",
              "            await google.colab.kernel.invokeFunction('convertToInteractive',\n",
              "                                                     [key], {});\n",
              "          if (!dataTable) return;\n",
              "\n",
              "          const docLinkHtml = 'Like what you see? Visit the ' +\n",
              "            '<a target=\"_blank\" href=https://colab.research.google.com/notebooks/data_table.ipynb>data table notebook</a>'\n",
              "            + ' to learn more about interactive tables.';\n",
              "          element.innerHTML = '';\n",
              "          dataTable['output_type'] = 'display_data';\n",
              "          await google.colab.output.renderOutput(dataTable, element);\n",
              "          const docLink = document.createElement('div');\n",
              "          docLink.innerHTML = docLinkHtml;\n",
              "          element.appendChild(docLink);\n",
              "        }\n",
              "      </script>\n",
              "    </div>\n",
              "  </div>\n",
              "  "
            ],
            "text/plain": [
              "                  ID      year  ...         Status          dtir1\n",
              "count  148670.000000  148670.0  ...  148670.000000  124549.000000\n",
              "mean    99224.500000    2019.0  ...       0.246445      37.732932\n",
              "std     42917.476598       0.0  ...       0.430942      10.545435\n",
              "min     24890.000000    2019.0  ...       0.000000       5.000000\n",
              "25%     62057.250000    2019.0  ...       0.000000      31.000000\n",
              "50%     99224.500000    2019.0  ...       0.000000      39.000000\n",
              "75%    136391.750000    2019.0  ...       0.000000      45.000000\n",
              "85%    151258.650000    2019.0  ...       1.000000      48.000000\n",
              "95%    166125.550000    2019.0  ...       1.000000      54.000000\n",
              "max    173559.000000    2019.0  ...       1.000000      61.000000\n",
              "\n",
              "[10 rows x 13 columns]"
            ]
          },
          "metadata": {},
          "execution_count": 13
        }
      ]
    },
    {
      "cell_type": "code",
      "source": [
        "#Checking the datatypes after altering\n",
        "data1.dtypes"
      ],
      "metadata": {
        "colab": {
          "base_uri": "https://localhost:8080/"
        },
        "id": "wOdvvMJxTqaV",
        "outputId": "5da49a8b-15b2-479a-b1dd-091e5dc425a4"
      },
      "execution_count": 14,
      "outputs": [
        {
          "output_type": "execute_result",
          "data": {
            "text/plain": [
              "ID                              int64\n",
              "year                            int64\n",
              "loan_limit                   category\n",
              "Gender                       category\n",
              "approv_in_adv                category\n",
              "loan_type                    category\n",
              "loan_purpose                 category\n",
              "Credit_Worthiness            category\n",
              "open_credit                  category\n",
              "business_or_commercial       category\n",
              "loan_amount                     int64\n",
              "rate_of_interest              float64\n",
              "Interest_rate_spread          float64\n",
              "Upfront_charges               float64\n",
              "term                          float64\n",
              "Neg_ammortization            category\n",
              "interest_only                category\n",
              "lump_sum_payment             category\n",
              "property_value                float64\n",
              "construction_type            category\n",
              "occupancy_type               category\n",
              "Secured_by                   category\n",
              "total_units                  category\n",
              "income                        float64\n",
              "credit_type                  category\n",
              "Credit_Score                    int64\n",
              "co-applicant_credit_type     category\n",
              "age                            object\n",
              "submission_of_application    category\n",
              "LTV                           float64\n",
              "Region                       category\n",
              "Security_Type                category\n",
              "Status                          int64\n",
              "dtir1                         float64\n",
              "dtype: object"
            ]
          },
          "metadata": {},
          "execution_count": 14
        }
      ]
    },
    {
      "cell_type": "markdown",
      "source": [
        "**Cleaning the dataframe**"
      ],
      "metadata": {
        "id": "22GtrNXbT1j_"
      }
    },
    {
      "cell_type": "code",
      "source": [
        "#Removing null values and displaying the results after cleaning\n",
        "data1 =data1.dropna()\n",
        "data1.isnull().sum()"
      ],
      "metadata": {
        "colab": {
          "base_uri": "https://localhost:8080/"
        },
        "id": "QJBwhnmpT3jv",
        "outputId": "18ad999c-8793-4f0d-ac2a-dd357f09fb48"
      },
      "execution_count": 15,
      "outputs": [
        {
          "output_type": "execute_result",
          "data": {
            "text/plain": [
              "ID                           0\n",
              "year                         0\n",
              "loan_limit                   0\n",
              "Gender                       0\n",
              "approv_in_adv                0\n",
              "loan_type                    0\n",
              "loan_purpose                 0\n",
              "Credit_Worthiness            0\n",
              "open_credit                  0\n",
              "business_or_commercial       0\n",
              "loan_amount                  0\n",
              "rate_of_interest             0\n",
              "Interest_rate_spread         0\n",
              "Upfront_charges              0\n",
              "term                         0\n",
              "Neg_ammortization            0\n",
              "interest_only                0\n",
              "lump_sum_payment             0\n",
              "property_value               0\n",
              "construction_type            0\n",
              "occupancy_type               0\n",
              "Secured_by                   0\n",
              "total_units                  0\n",
              "income                       0\n",
              "credit_type                  0\n",
              "Credit_Score                 0\n",
              "co-applicant_credit_type     0\n",
              "age                          0\n",
              "submission_of_application    0\n",
              "LTV                          0\n",
              "Region                       0\n",
              "Security_Type                0\n",
              "Status                       0\n",
              "dtir1                        0\n",
              "dtype: int64"
            ]
          },
          "metadata": {},
          "execution_count": 15
        }
      ]
    },
    {
      "cell_type": "markdown",
      "source": [
        "**Inferences:**\n",
        "\n",
        "All the columns has 0 missing values."
      ],
      "metadata": {
        "id": "u-pO_GE490wa"
      }
    },
    {
      "cell_type": "code",
      "source": [
        "#Number of unique values in each column\n",
        "data1.nunique()"
      ],
      "metadata": {
        "colab": {
          "base_uri": "https://localhost:8080/"
        },
        "id": "GUDwoNPsT7Fd",
        "outputId": "0ff8b81a-131a-4b80-c2e7-a261b99f3e90"
      },
      "execution_count": 16,
      "outputs": [
        {
          "output_type": "execute_result",
          "data": {
            "text/plain": [
              "ID                           98187\n",
              "year                             1\n",
              "loan_limit                       2\n",
              "Gender                           4\n",
              "approv_in_adv                    2\n",
              "loan_type                        3\n",
              "loan_purpose                     4\n",
              "Credit_Worthiness                2\n",
              "open_credit                      1\n",
              "business_or_commercial           2\n",
              "loan_amount                    173\n",
              "rate_of_interest               124\n",
              "Interest_rate_spread         20498\n",
              "Upfront_charges              53978\n",
              "term                            24\n",
              "Neg_ammortization                2\n",
              "interest_only                    2\n",
              "lump_sum_payment                 2\n",
              "property_value                 350\n",
              "construction_type                1\n",
              "occupancy_type                   3\n",
              "Secured_by                       1\n",
              "total_units                      4\n",
              "income                         867\n",
              "credit_type                      4\n",
              "Credit_Score                   401\n",
              "co-applicant_credit_type         2\n",
              "age                              7\n",
              "submission_of_application        2\n",
              "LTV                           7128\n",
              "Region                           4\n",
              "Security_Type                    1\n",
              "Status                           1\n",
              "dtir1                           57\n",
              "dtype: int64"
            ]
          },
          "metadata": {},
          "execution_count": 16
        }
      ]
    },
    {
      "cell_type": "markdown",
      "source": [
        "**Inferences:**\n",
        "\n",
        "The unique values present in each column are shown against the column name"
      ],
      "metadata": {
        "id": "kukgxr0c97-V"
      }
    },
    {
      "cell_type": "markdown",
      "source": [
        "**Analyzing data distribution**"
      ],
      "metadata": {
        "id": "1cFyZZ3XULt0"
      }
    },
    {
      "cell_type": "code",
      "source": [
        "#Distribution of loan_amount\n",
        "plt.figure(figsize=(10,5))\n",
        "(sns.distplot(data1['loan_amount'],bins=50,kde=True,color = \"green\")).set(xlabel=\"Loan amount in millions\", ylabel = \"Count\", title='Distribution of Loan Amount')\n",
        "plt.show()"
      ],
      "metadata": {
        "colab": {
          "base_uri": "https://localhost:8080/",
          "height": 350
        },
        "id": "GUi16yRXUAIY",
        "outputId": "72788be2-25b9-41a4-d9e7-5386e192b919"
      },
      "execution_count": 17,
      "outputs": [
        {
          "output_type": "display_data",
          "data": {
            "image/png": "[encoded data removed]",
            "text/plain": [
              "<Figure size 720x360 with 1 Axes>"
            ]
          },
          "metadata": {
            "needs_background": "light"
          }
        }
      ]
    },
    {
      "cell_type": "markdown",
      "source": [
        "**Inferences:**\n",
        "\n",
        "Most of the values of loan applications are in the ranges beween 250 K to 500 K "
      ],
      "metadata": {
        "id": "EorhnBr7-JQu"
      }
    },
    {
      "cell_type": "code",
      "source": [
        "data1['Gender'].value_counts().plot(kind='bar',xlabel='Gender',ylabel='Count',title='Distribition of loan applications by gender')"
      ],
      "metadata": {
        "colab": {
          "base_uri": "https://localhost:8080/",
          "height": 390
        },
        "id": "yrABTCicVlLv",
        "outputId": "97fff026-5f12-4c0b-d0d8-3affce091f58"
      },
      "execution_count": 18,
      "outputs": [
        {
          "output_type": "execute_result",
          "data": {
            "text/plain": [
              "<matplotlib.axes._subplots.AxesSubplot at 0x7fbb4e9d1790>"
            ]
          },
          "metadata": {},
          "execution_count": 18
        },
        {
          "output_type": "display_data",
          "data": {
            "image/png": "[encoded data removed]",
            "text/plain": [
              "<Figure size 432x288 with 1 Axes>"
            ]
          },
          "metadata": {
            "needs_background": "light"
          }
        }
      ]
    },
    {
      "cell_type": "markdown",
      "source": [
        "**Inferences:**\n",
        "\n",
        "We can infer that the joint applications (i. e., both male and female) are the highest and individually male application sare higher than females."
      ],
      "metadata": {
        "id": "VcuzuYKh-meG"
      }
    },
    {
      "cell_type": "code",
      "source": [
        "sns.countplot(data1['credit_type'],)\n",
        "plt.xlabel('Credit Types')\n",
        "plt.ylabel('Count')\n",
        "plt.title('Distribution of loan applicants by credit type')"
      ],
      "metadata": {
        "colab": {
          "base_uri": "https://localhost:8080/",
          "height": 313
        },
        "id": "36BW4nwtmeAw",
        "outputId": "10420d70-6231-4676-82c3-9439691c8730"
      },
      "execution_count": 19,
      "outputs": [
        {
          "output_type": "execute_result",
          "data": {
            "text/plain": [
              "Text(0.5, 1.0, 'Distribution of loan applicants by credit type')"
            ]
          },
          "metadata": {},
          "execution_count": 19
        },
        {
          "output_type": "display_data",
          "data": {
            "image/png": "[encoded data removed]",
            "text/plain": [
              "<Figure size 432x288 with 1 Axes>"
            ]
          },
          "metadata": {
            "needs_background": "light"
          }
        }
      ]
    },
    {
      "cell_type": "markdown",
      "source": [
        "**Inferences:**\n",
        "\n",
        "The loan applications with 'CIB' & 'CRIF' are the highest when comapred to other two types."
      ],
      "metadata": {
        "id": "7KlI2Wu6-8M8"
      }
    },
    {
      "cell_type": "code",
      "source": [
        "sns.countplot(data1['occupancy_type'])\n",
        "plt.xlabel('Occupancy Types')\n",
        "plt.ylabel('Count')\n",
        "plt.title('Distribution of loan applicants by occupancy type')"
      ],
      "metadata": {
        "colab": {
          "base_uri": "https://localhost:8080/",
          "height": 313
        },
        "id": "-D3QK60lmraS",
        "outputId": "e6f03bd5-539b-4993-a104-ef1db78a32a8"
      },
      "execution_count": 20,
      "outputs": [
        {
          "output_type": "execute_result",
          "data": {
            "text/plain": [
              "Text(0.5, 1.0, 'Distribution of loan applicants by occupancy type')"
            ]
          },
          "metadata": {},
          "execution_count": 20
        },
        {
          "output_type": "display_data",
          "data": {
            "image/png": "[encoded data removed]",
            "text/plain": [
              "<Figure size 432x288 with 1 Axes>"
            ]
          },
          "metadata": {
            "needs_background": "light"
          }
        }
      ]
    },
    {
      "cell_type": "markdown",
      "source": [
        "**Inferences:**\n",
        "\n",
        "The loan applications with occupany_type 'pr' are the highest when compared to the other types of accupancies."
      ],
      "metadata": {
        "id": "VaOEtXld_J0R"
      }
    },
    {
      "cell_type": "code",
      "source": [
        "data1['loan_purpose'].value_counts().plot(kind='bar')\n",
        "plt.xlabel('Purpose of loans')\n",
        "plt.ylabel('Count')\n",
        "plt.title('Distribution of loan applicants by purpose of the loan')"
      ],
      "metadata": {
        "colab": {
          "base_uri": "https://localhost:8080/",
          "height": 316
        },
        "id": "KB9c7P1BkEZo",
        "outputId": "f41a5565-bf27-45b5-80e5-70c02ec16bfc"
      },
      "execution_count": 21,
      "outputs": [
        {
          "output_type": "execute_result",
          "data": {
            "text/plain": [
              "Text(0.5, 1.0, 'Distribution of loan applicants by purpose of the loan')"
            ]
          },
          "metadata": {},
          "execution_count": 21
        },
        {
          "output_type": "display_data",
          "data": {
            "image/png": "[encoded data removed]",
            "text/plain": [
              "<Figure size 432x288 with 1 Axes>"
            ]
          },
          "metadata": {
            "needs_background": "light"
          }
        }
      ]
    },
    {
      "cell_type": "markdown",
      "source": [
        "**Inferences:**\n",
        "\n",
        "The purposes 'p3','p4' types are the highest among other loan applications."
      ],
      "metadata": {
        "id": "2MTXWdDj_Vg3"
      }
    },
    {
      "cell_type": "code",
      "source": [
        "plt.figure(figsize=(10,5))\n",
        "(sns.distplot(data1['rate_of_interest'],bins=50,kde=True,color = \"green\")).set(xlabel=\"Rate of interest\", ylabel = \"Count\", title='Distribution of Interest rates')\n",
        "plt.show()"
      ],
      "metadata": {
        "colab": {
          "base_uri": "https://localhost:8080/",
          "height": 350
        },
        "id": "TaAE-q0_kPzw",
        "outputId": "704570a2-b9f3-43ce-a240-83be1d89da49"
      },
      "execution_count": 22,
      "outputs": [
        {
          "output_type": "display_data",
          "data": {
            "image/png": "[encoded data removed]",
            "text/plain": [
              "<Figure size 720x360 with 1 Axes>"
            ]
          },
          "metadata": {
            "needs_background": "light"
          }
        }
      ]
    },
    {
      "cell_type": "markdown",
      "source": [
        "**Inferences:**\n",
        "\n",
        "The interest rates for most of the loans are in the range between 3 and 5."
      ],
      "metadata": {
        "id": "3wQXdZUC_gSC"
      }
    },
    {
      "cell_type": "code",
      "source": [
        "plt.figure(figsize=(10,5))\n",
        "(sns.distplot(data1['term'],bins=50,kde=True,color = \"green\")).set(xlabel=\"Loan amount in terms\", ylabel = \"Count\", title='Distribution of Loan terms (in months)')\n",
        "plt.show()"
      ],
      "metadata": {
        "colab": {
          "base_uri": "https://localhost:8080/",
          "height": 350
        },
        "id": "5V58Bw7wohXq",
        "outputId": "5f0a750c-6308-4368-8caa-beb145cb562a"
      },
      "execution_count": 32,
      "outputs": [
        {
          "output_type": "display_data",
          "data": {
            "image/png": "[encoded data removed]",
            "text/plain": [
              "<Figure size 720x360 with 1 Axes>"
            ]
          },
          "metadata": {
            "needs_background": "light"
          }
        }
      ]
    },
    {
      "cell_type": "markdown",
      "source": [
        "**Inferences:**\n",
        "\n",
        "Most of the loan terms are in the range of 300 to 400   "
      ],
      "metadata": {
        "id": "8-9AcmFp_zg-"
      }
    },
    {
      "cell_type": "code",
      "source": [
        "plt.figure(figsize=(10,5))\n",
        "(sns.distplot(data1['property_value'],bins=50,kde=True,color = \"green\")).set(xlabel=\"Property in millions\", ylabel = \"Count\", title='Distribution of Property Values')\n",
        "plt.show()"
      ],
      "metadata": {
        "colab": {
          "base_uri": "https://localhost:8080/",
          "height": 350
        },
        "id": "OakdHJVgkdKp",
        "outputId": "38790c38-7aa1-4c6c-c718-6b0148826d04"
      },
      "execution_count": 24,
      "outputs": [
        {
          "output_type": "display_data",
          "data": {
            "image/png": "[encoded data removed]",
            "text/plain": [
              "<Figure size 720x360 with 1 Axes>"
            ]
          },
          "metadata": {
            "needs_background": "light"
          }
        }
      ]
    },
    {
      "cell_type": "markdown",
      "source": [
        "**Inferences:**\n",
        "\n",
        "The values of the collateral properties for loan applications are in the ranges of 100k to 1000K"
      ],
      "metadata": {
        "id": "SmzK5CtNA2av"
      }
    },
    {
      "cell_type": "code",
      "source": [
        "plt.figure(figsize=(15,5))\n",
        "(sns.distplot(data1['income'],bins=50,kde=True,color = \"green\")).set(xlabel=\"Income os Applicants\", ylabel = \"Count\", title='Distribution of Income levels of loan applicants')\n",
        "plt.show()"
      ],
      "metadata": {
        "colab": {
          "base_uri": "https://localhost:8080/",
          "height": 350
        },
        "id": "haWw7yylkojd",
        "outputId": "b6728eb2-1f3a-49fd-d14d-92685d42d14a"
      },
      "execution_count": 25,
      "outputs": [
        {
          "output_type": "display_data",
          "data": {
            "image/png": "[encoded data removed]",
            "text/plain": [
              "<Figure size 1080x360 with 1 Axes>"
            ]
          },
          "metadata": {
            "needs_background": "light"
          }
        }
      ]
    },
    {
      "cell_type": "markdown",
      "source": [
        "**Inferences:**\n",
        "\n",
        "The income ranges of loan applicants are in the range of 0 to 20000 per months"
      ],
      "metadata": {
        "id": "jKwbZyM7BLwJ"
      }
    },
    {
      "cell_type": "code",
      "source": [
        "#displaying the distribution of age groups\n",
        "data1['age'].value_counts().plot(figsize=(20, 5),kind='bar',fontsize=13)\n",
        "plt.xlabel('Age Group', fontsize=14)\n",
        "plt.ylabel('Count', fontsize=14)\n",
        "plt.title('Visualization of age groups of loan applicants',fontsize=18)"
      ],
      "metadata": {
        "colab": {
          "base_uri": "https://localhost:8080/",
          "height": 403
        },
        "id": "d60QfmAkk_Ra",
        "outputId": "c0407dd0-9bf4-49f3-bb9e-e0d3fd38e079"
      },
      "execution_count": 26,
      "outputs": [
        {
          "output_type": "execute_result",
          "data": {
            "text/plain": [
              "Text(0.5, 1.0, 'Visualization of age groups of loan applicants')"
            ]
          },
          "metadata": {},
          "execution_count": 26
        },
        {
          "output_type": "display_data",
          "data": {
            "image/png": "[encoded data removed]",
            "text/plain": [
              "<Figure size 1440x360 with 1 Axes>"
            ]
          },
          "metadata": {
            "needs_background": "light"
          }
        }
      ]
    },
    {
      "cell_type": "markdown",
      "source": [
        "**Inferences:**\n",
        "\n",
        "The age of the loan applicants are in the range of 45-54 followed by applicants are of the ages 35-44"
      ],
      "metadata": {
        "id": "1mxaT33QBdb8"
      }
    },
    {
      "cell_type": "code",
      "source": [
        "#displaying the comparision of loan amounts by interest rates \n",
        "\n",
        "plt.figure(figsize=(15,4))\n",
        "sns.lineplot(x='loan_amount',y='rate_of_interest', data =data1, color = 'b')\n",
        "plt.title('Comparision of loan amounts by interest rates ')\n",
        "plt.show()"
      ],
      "metadata": {
        "colab": {
          "base_uri": "https://localhost:8080/",
          "height": 296
        },
        "id": "ZOXlkdoQlkIq",
        "outputId": "992f37b0-7613-4541-e0d3-55cc50d2dfe2"
      },
      "execution_count": 27,
      "outputs": [
        {
          "output_type": "display_data",
          "data": {
            "image/png": "[encoded data removed]",
            "text/plain": [
              "<Figure size 1080x288 with 1 Axes>"
            ]
          },
          "metadata": {
            "needs_background": "light"
          }
        }
      ]
    },
    {
      "cell_type": "markdown",
      "source": [
        "**Inferences:**\n",
        "\n",
        "The is no steady interest rates. We can see that the interest rates floats with respect to the loan amounts."
      ],
      "metadata": {
        "id": "9sBCkuKYB76z"
      }
    },
    {
      "cell_type": "code",
      "source": [
        "plt.figure(figsize=(10,4))\n",
        "sns.barplot(data1['Gender'],data1['rate_of_interest'])\n",
        "plt.title('Comaprision of Interest rates by Gender')"
      ],
      "metadata": {
        "colab": {
          "base_uri": "https://localhost:8080/",
          "height": 313
        },
        "id": "UG8w2r1Ql766",
        "outputId": "873b2c3d-92ba-4ffc-8857-92515fd8df84"
      },
      "execution_count": 28,
      "outputs": [
        {
          "output_type": "execute_result",
          "data": {
            "text/plain": [
              "Text(0.5, 1.0, 'Comaprision of Interest rates by Gender')"
            ]
          },
          "metadata": {},
          "execution_count": 28
        },
        {
          "output_type": "display_data",
          "data": {
            "image/png": "[encoded data removed]",
            "text/plain": [
              "<Figure size 720x288 with 1 Axes>"
            ]
          },
          "metadata": {
            "needs_background": "light"
          }
        }
      ]
    },
    {
      "cell_type": "markdown",
      "source": [
        "**Inferences:**\n",
        "\n",
        "We can infer that the interest rates for loan applications does not vary by gender."
      ],
      "metadata": {
        "id": "zrYAMverCSiI"
      }
    },
    {
      "cell_type": "code",
      "source": [
        "plt.figure(figsize=(10,4))\n",
        "sns.barplot(data1['Gender'],data1['loan_amount'])\n",
        "plt.title('Comaprision of loan amounts by Gender')"
      ],
      "metadata": {
        "colab": {
          "base_uri": "https://localhost:8080/",
          "height": 313
        },
        "id": "46cOSIw2nLRR",
        "outputId": "273c5528-f2a4-4299-ca02-e95bf887813b"
      },
      "execution_count": 29,
      "outputs": [
        {
          "output_type": "execute_result",
          "data": {
            "text/plain": [
              "Text(0.5, 1.0, 'Comaprision of loan amounts by Gender')"
            ]
          },
          "metadata": {},
          "execution_count": 29
        },
        {
          "output_type": "display_data",
          "data": {
            "image/png": "[encoded data removed]",
            "text/plain": [
              "<Figure size 720x288 with 1 Axes>"
            ]
          },
          "metadata": {
            "needs_background": "light"
          }
        }
      ]
    },
    {
      "cell_type": "markdown",
      "source": [
        "**Inferences:**\n",
        "\n",
        "We can infer that the loan amount for joint loan applications are higher then followed by male applicants. "
      ],
      "metadata": {
        "id": "vshfyDu3CrGS"
      }
    },
    {
      "cell_type": "code",
      "source": [
        "plt.figure(figsize=(8,5))\n",
        "sns.barplot(x='credit_type',y='Credit_Score',data=data1, palette='rainbow')\n",
        "plt.title(\"Comparision of credit score by credit type\")"
      ],
      "metadata": {
        "colab": {
          "base_uri": "https://localhost:8080/",
          "height": 369
        },
        "id": "_pM3AhRTnW7t",
        "outputId": "bb29a29c-e48d-4d33-b422-2cc3afe49bdb"
      },
      "execution_count": 30,
      "outputs": [
        {
          "output_type": "execute_result",
          "data": {
            "text/plain": [
              "Text(0.5, 1.0, 'Comparision of credit score by credit type')"
            ]
          },
          "metadata": {},
          "execution_count": 30
        },
        {
          "output_type": "display_data",
          "data": {
            "image/png": "[encoded data removed]",
            "text/plain": [
              "<Figure size 576x360 with 1 Axes>"
            ]
          },
          "metadata": {
            "needs_background": "light"
          }
        }
      ]
    },
    {
      "cell_type": "markdown",
      "source": [
        "**Inferences:**\n",
        "\n",
        "The credit scores of the credit type CRIF is higher then followed by credit type EXP."
      ],
      "metadata": {
        "id": "ZaX-wXoaECGd"
      }
    },
    {
      "cell_type": "code",
      "source": [
        "#Displaying the comaprision of loan amount by the gender of applicants type and nature of loan availability  \n",
        "plt.figure(figsize=(6,6))\n",
        "sns.catplot(x='business_or_commercial',y='loan_amount', col = 'Gender', data=data1,\n",
        "                kind='bar', aspect=.7, palette='Set1')\n",
        "#plt.title('comaprision of loan amount by the gender of applicants type and nature of loan availability')"
      ],
      "metadata": {
        "colab": {
          "base_uri": "https://localhost:8080/",
          "height": 405
        },
        "id": "aN1_PEEfnuNM",
        "outputId": "073a2628-8247-4f13-bffa-225dd5b75811"
      },
      "execution_count": 31,
      "outputs": [
        {
          "output_type": "execute_result",
          "data": {
            "text/plain": [
              "<seaborn.axisgrid.FacetGrid at 0x7fbb4e46d890>"
            ]
          },
          "metadata": {},
          "execution_count": 31
        },
        {
          "output_type": "display_data",
          "data": {
            "text/plain": [
              "<Figure size 432x432 with 0 Axes>"
            ]
          },
          "metadata": {}
        },
        {
          "output_type": "display_data",
          "data": {
            "image/png": "[encoded data removed]",
            "text/plain": [
              "<Figure size 1008x360 with 4 Axes>"
            ]
          },
          "metadata": {
            "needs_background": "light"
          }
        }
      ]
    },
    {
      "cell_type": "markdown",
      "source": [
        "**Inferences:**\n",
        "\n",
        "We can infer that the most of the loan applicants are for commercial purposes in any ganders. We can also infer that there are male applicants for business purposes than females."
      ],
      "metadata": {
        "id": "UBTVch1gEQlK"
      }
    },
    {
      "cell_type": "code",
      "source": [
        ""
      ],
      "metadata": {
        "id": "CMvIur9_oOKy"
      },
      "execution_count": 31,
      "outputs": []
    }
  ]
}