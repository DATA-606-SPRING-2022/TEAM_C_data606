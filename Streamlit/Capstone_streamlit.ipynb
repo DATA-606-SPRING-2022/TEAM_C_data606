{
  "nbformat": 4,
  "nbformat_minor": 0,
  "metadata": {
    "colab": {
      "name": "Capstone.ipynb",
      "provenance": [],
      "collapsed_sections": []
    },
    "kernelspec": {
      "name": "python3",
      "display_name": "Python 3"
    },
    "language_info": {
      "name": "python"
    }
  },
  "cells": [
    {
      "cell_type": "code",
      "execution_count": 3,
      "metadata": {
        "colab": {
          "base_uri": "https://localhost:8080/"
        },
        "id": "mJfewpK8bewM",
        "outputId": "2b7dcbd9-498a-4fb4-da4c-bc6dd04315c9"
      },
      "outputs": [
        {
          "output_type": "stream",
          "name": "stdout",
          "text": [
            "Requirement already satisfied: streamlit in /usr/local/lib/python3.7/dist-packages (1.9.0)\n",
            "Requirement already satisfied: click<8.1,>=7.0 in /usr/local/lib/python3.7/dist-packages (from streamlit) (7.1.2)\n",
            "Requirement already satisfied: packaging in /usr/local/lib/python3.7/dist-packages (from streamlit) (21.3)\n",
            "Requirement already satisfied: semver in /usr/local/lib/python3.7/dist-packages (from streamlit) (2.13.0)\n",
            "Requirement already satisfied: requests in /usr/local/lib/python3.7/dist-packages (from streamlit) (2.23.0)\n",
            "Requirement already satisfied: numpy in /usr/local/lib/python3.7/dist-packages (from streamlit) (1.21.6)\n",
            "Requirement already satisfied: cachetools>=4.0 in /usr/local/lib/python3.7/dist-packages (from streamlit) (4.2.4)\n",
            "Requirement already satisfied: attrs in /usr/local/lib/python3.7/dist-packages (from streamlit) (21.4.0)\n",
            "Requirement already satisfied: pandas>=0.21.0 in /usr/local/lib/python3.7/dist-packages (from streamlit) (1.3.5)\n",
            "Requirement already satisfied: blinker in /usr/local/lib/python3.7/dist-packages (from streamlit) (1.4)\n",
            "Requirement already satisfied: tzlocal in /usr/local/lib/python3.7/dist-packages (from streamlit) (1.5.1)\n",
            "Requirement already satisfied: protobuf!=3.11,>=3.6.0 in /usr/local/lib/python3.7/dist-packages (from streamlit) (3.17.3)\n",
            "Requirement already satisfied: watchdog in /usr/local/lib/python3.7/dist-packages (from streamlit) (2.1.8)\n",
            "Requirement already satisfied: toml in /usr/local/lib/python3.7/dist-packages (from streamlit) (0.10.2)\n",
            "Requirement already satisfied: pydeck>=0.1.dev5 in /usr/local/lib/python3.7/dist-packages (from streamlit) (0.7.1)\n",
            "Requirement already satisfied: python-dateutil in /usr/local/lib/python3.7/dist-packages (from streamlit) (2.8.2)\n",
            "Requirement already satisfied: pillow>=6.2.0 in /usr/local/lib/python3.7/dist-packages (from streamlit) (7.1.2)\n",
            "Requirement already satisfied: gitpython!=3.1.19 in /usr/local/lib/python3.7/dist-packages (from streamlit) (3.1.27)\n",
            "Requirement already satisfied: pyarrow in /usr/local/lib/python3.7/dist-packages (from streamlit) (6.0.1)\n",
            "Requirement already satisfied: validators in /usr/local/lib/python3.7/dist-packages (from streamlit) (0.19.0)\n",
            "Requirement already satisfied: typing-extensions in /usr/local/lib/python3.7/dist-packages (from streamlit) (4.2.0)\n",
            "Requirement already satisfied: pympler>=0.9 in /usr/local/lib/python3.7/dist-packages (from streamlit) (1.0.1)\n",
            "Requirement already satisfied: altair>=3.2.0 in /usr/local/lib/python3.7/dist-packages (from streamlit) (4.2.0)\n",
            "Requirement already satisfied: tornado>=5.0 in /usr/local/lib/python3.7/dist-packages (from streamlit) (6.1)\n",
            "Requirement already satisfied: importlib-metadata>=1.4 in /usr/local/lib/python3.7/dist-packages (from streamlit) (4.11.3)\n",
            "Requirement already satisfied: entrypoints in /usr/local/lib/python3.7/dist-packages (from altair>=3.2.0->streamlit) (0.4)\n",
            "Requirement already satisfied: jsonschema>=3.0 in /usr/local/lib/python3.7/dist-packages (from altair>=3.2.0->streamlit) (4.3.3)\n",
            "Requirement already satisfied: jinja2 in /usr/local/lib/python3.7/dist-packages (from altair>=3.2.0->streamlit) (2.11.3)\n",
            "Requirement already satisfied: toolz in /usr/local/lib/python3.7/dist-packages (from altair>=3.2.0->streamlit) (0.11.2)\n",
            "Requirement already satisfied: gitdb<5,>=4.0.1 in /usr/local/lib/python3.7/dist-packages (from gitpython!=3.1.19->streamlit) (4.0.9)\n",
            "Requirement already satisfied: smmap<6,>=3.0.1 in /usr/local/lib/python3.7/dist-packages (from gitdb<5,>=4.0.1->gitpython!=3.1.19->streamlit) (5.0.0)\n",
            "Requirement already satisfied: zipp>=0.5 in /usr/local/lib/python3.7/dist-packages (from importlib-metadata>=1.4->streamlit) (3.8.0)\n",
            "Requirement already satisfied: pyrsistent!=0.17.0,!=0.17.1,!=0.17.2,>=0.14.0 in /usr/local/lib/python3.7/dist-packages (from jsonschema>=3.0->altair>=3.2.0->streamlit) (0.18.1)\n",
            "Requirement already satisfied: importlib-resources>=1.4.0 in /usr/local/lib/python3.7/dist-packages (from jsonschema>=3.0->altair>=3.2.0->streamlit) (5.7.1)\n",
            "Requirement already satisfied: pytz>=2017.3 in /usr/local/lib/python3.7/dist-packages (from pandas>=0.21.0->streamlit) (2022.1)\n",
            "Requirement already satisfied: six>=1.9 in /usr/local/lib/python3.7/dist-packages (from protobuf!=3.11,>=3.6.0->streamlit) (1.15.0)\n",
            "Requirement already satisfied: traitlets>=4.3.2 in /usr/local/lib/python3.7/dist-packages (from pydeck>=0.1.dev5->streamlit) (5.2.0)\n",
            "Requirement already satisfied: ipywidgets>=7.0.0 in /usr/local/lib/python3.7/dist-packages (from pydeck>=0.1.dev5->streamlit) (7.7.0)\n",
            "Requirement already satisfied: ipykernel>=5.1.2 in /usr/local/lib/python3.7/dist-packages (from pydeck>=0.1.dev5->streamlit) (6.13.0)\n",
            "Requirement already satisfied: matplotlib-inline>=0.1 in /usr/local/lib/python3.7/dist-packages (from ipykernel>=5.1.2->pydeck>=0.1.dev5->streamlit) (0.1.3)\n",
            "Requirement already satisfied: debugpy>=1.0 in /usr/local/lib/python3.7/dist-packages (from ipykernel>=5.1.2->pydeck>=0.1.dev5->streamlit) (1.0.0)\n",
            "Requirement already satisfied: psutil in /usr/local/lib/python3.7/dist-packages (from ipykernel>=5.1.2->pydeck>=0.1.dev5->streamlit) (5.4.8)\n",
            "Requirement already satisfied: ipython>=7.23.1 in /usr/local/lib/python3.7/dist-packages (from ipykernel>=5.1.2->pydeck>=0.1.dev5->streamlit) (7.33.0)\n",
            "Requirement already satisfied: jupyter-client>=6.1.12 in /usr/local/lib/python3.7/dist-packages (from ipykernel>=5.1.2->pydeck>=0.1.dev5->streamlit) (7.3.1)\n",
            "Requirement already satisfied: nest-asyncio in /usr/local/lib/python3.7/dist-packages (from ipykernel>=5.1.2->pydeck>=0.1.dev5->streamlit) (1.5.5)\n",
            "Requirement already satisfied: decorator in /usr/local/lib/python3.7/dist-packages (from ipython>=7.23.1->ipykernel>=5.1.2->pydeck>=0.1.dev5->streamlit) (4.4.2)\n",
            "Requirement already satisfied: prompt-toolkit!=3.0.0,!=3.0.1,<3.1.0,>=2.0.0 in /usr/local/lib/python3.7/dist-packages (from ipython>=7.23.1->ipykernel>=5.1.2->pydeck>=0.1.dev5->streamlit) (3.0.29)\n",
            "Requirement already satisfied: setuptools>=18.5 in /usr/local/lib/python3.7/dist-packages (from ipython>=7.23.1->ipykernel>=5.1.2->pydeck>=0.1.dev5->streamlit) (57.4.0)\n",
            "Requirement already satisfied: pygments in /usr/local/lib/python3.7/dist-packages (from ipython>=7.23.1->ipykernel>=5.1.2->pydeck>=0.1.dev5->streamlit) (2.6.1)\n",
            "Requirement already satisfied: backcall in /usr/local/lib/python3.7/dist-packages (from ipython>=7.23.1->ipykernel>=5.1.2->pydeck>=0.1.dev5->streamlit) (0.2.0)\n",
            "Requirement already satisfied: pexpect>4.3 in /usr/local/lib/python3.7/dist-packages (from ipython>=7.23.1->ipykernel>=5.1.2->pydeck>=0.1.dev5->streamlit) (4.8.0)\n",
            "Requirement already satisfied: jedi>=0.16 in /usr/local/lib/python3.7/dist-packages (from ipython>=7.23.1->ipykernel>=5.1.2->pydeck>=0.1.dev5->streamlit) (0.18.1)\n",
            "Requirement already satisfied: pickleshare in /usr/local/lib/python3.7/dist-packages (from ipython>=7.23.1->ipykernel>=5.1.2->pydeck>=0.1.dev5->streamlit) (0.7.5)\n",
            "Requirement already satisfied: widgetsnbextension~=3.6.0 in /usr/local/lib/python3.7/dist-packages (from ipywidgets>=7.0.0->pydeck>=0.1.dev5->streamlit) (3.6.0)\n",
            "Requirement already satisfied: jupyterlab-widgets>=1.0.0 in /usr/local/lib/python3.7/dist-packages (from ipywidgets>=7.0.0->pydeck>=0.1.dev5->streamlit) (1.1.0)\n",
            "Requirement already satisfied: nbformat>=4.2.0 in /usr/local/lib/python3.7/dist-packages (from ipywidgets>=7.0.0->pydeck>=0.1.dev5->streamlit) (5.4.0)\n",
            "Requirement already satisfied: ipython-genutils~=0.2.0 in /usr/local/lib/python3.7/dist-packages (from ipywidgets>=7.0.0->pydeck>=0.1.dev5->streamlit) (0.2.0)\n",
            "Requirement already satisfied: parso<0.9.0,>=0.8.0 in /usr/local/lib/python3.7/dist-packages (from jedi>=0.16->ipython>=7.23.1->ipykernel>=5.1.2->pydeck>=0.1.dev5->streamlit) (0.8.3)\n",
            "Requirement already satisfied: MarkupSafe>=0.23 in /usr/local/lib/python3.7/dist-packages (from jinja2->altair>=3.2.0->streamlit) (2.0.1)\n",
            "Requirement already satisfied: pyzmq>=22.3 in /usr/local/lib/python3.7/dist-packages (from jupyter-client>=6.1.12->ipykernel>=5.1.2->pydeck>=0.1.dev5->streamlit) (22.3.0)\n",
            "Requirement already satisfied: jupyter-core>=4.9.2 in /usr/local/lib/python3.7/dist-packages (from jupyter-client>=6.1.12->ipykernel>=5.1.2->pydeck>=0.1.dev5->streamlit) (4.10.0)\n",
            "Requirement already satisfied: fastjsonschema in /usr/local/lib/python3.7/dist-packages (from nbformat>=4.2.0->ipywidgets>=7.0.0->pydeck>=0.1.dev5->streamlit) (2.15.3)\n",
            "Requirement already satisfied: ptyprocess>=0.5 in /usr/local/lib/python3.7/dist-packages (from pexpect>4.3->ipython>=7.23.1->ipykernel>=5.1.2->pydeck>=0.1.dev5->streamlit) (0.7.0)\n",
            "Requirement already satisfied: wcwidth in /usr/local/lib/python3.7/dist-packages (from prompt-toolkit!=3.0.0,!=3.0.1,<3.1.0,>=2.0.0->ipython>=7.23.1->ipykernel>=5.1.2->pydeck>=0.1.dev5->streamlit) (0.2.5)\n",
            "Requirement already satisfied: notebook>=4.4.1 in /usr/local/lib/python3.7/dist-packages (from widgetsnbextension~=3.6.0->ipywidgets>=7.0.0->pydeck>=0.1.dev5->streamlit) (5.3.1)\n",
            "Requirement already satisfied: terminado>=0.8.1 in /usr/local/lib/python3.7/dist-packages (from notebook>=4.4.1->widgetsnbextension~=3.6.0->ipywidgets>=7.0.0->pydeck>=0.1.dev5->streamlit) (0.13.3)\n",
            "Requirement already satisfied: nbconvert in /usr/local/lib/python3.7/dist-packages (from notebook>=4.4.1->widgetsnbextension~=3.6.0->ipywidgets>=7.0.0->pydeck>=0.1.dev5->streamlit) (5.6.1)\n",
            "Requirement already satisfied: Send2Trash in /usr/local/lib/python3.7/dist-packages (from notebook>=4.4.1->widgetsnbextension~=3.6.0->ipywidgets>=7.0.0->pydeck>=0.1.dev5->streamlit) (1.8.0)\n",
            "Requirement already satisfied: bleach in /usr/local/lib/python3.7/dist-packages (from nbconvert->notebook>=4.4.1->widgetsnbextension~=3.6.0->ipywidgets>=7.0.0->pydeck>=0.1.dev5->streamlit) (5.0.0)\n",
            "Requirement already satisfied: pandocfilters>=1.4.1 in /usr/local/lib/python3.7/dist-packages (from nbconvert->notebook>=4.4.1->widgetsnbextension~=3.6.0->ipywidgets>=7.0.0->pydeck>=0.1.dev5->streamlit) (1.5.0)\n",
            "Requirement already satisfied: defusedxml in /usr/local/lib/python3.7/dist-packages (from nbconvert->notebook>=4.4.1->widgetsnbextension~=3.6.0->ipywidgets>=7.0.0->pydeck>=0.1.dev5->streamlit) (0.7.1)\n",
            "Requirement already satisfied: mistune<2,>=0.8.1 in /usr/local/lib/python3.7/dist-packages (from nbconvert->notebook>=4.4.1->widgetsnbextension~=3.6.0->ipywidgets>=7.0.0->pydeck>=0.1.dev5->streamlit) (0.8.4)\n",
            "Requirement already satisfied: testpath in /usr/local/lib/python3.7/dist-packages (from nbconvert->notebook>=4.4.1->widgetsnbextension~=3.6.0->ipywidgets>=7.0.0->pydeck>=0.1.dev5->streamlit) (0.6.0)\n",
            "Requirement already satisfied: webencodings in /usr/local/lib/python3.7/dist-packages (from bleach->nbconvert->notebook>=4.4.1->widgetsnbextension~=3.6.0->ipywidgets>=7.0.0->pydeck>=0.1.dev5->streamlit) (0.5.1)\n",
            "Requirement already satisfied: pyparsing!=3.0.5,>=2.0.2 in /usr/local/lib/python3.7/dist-packages (from packaging->streamlit) (3.0.9)\n",
            "Requirement already satisfied: urllib3!=1.25.0,!=1.25.1,<1.26,>=1.21.1 in /usr/local/lib/python3.7/dist-packages (from requests->streamlit) (1.24.3)\n",
            "Requirement already satisfied: certifi>=2017.4.17 in /usr/local/lib/python3.7/dist-packages (from requests->streamlit) (2021.10.8)\n",
            "Requirement already satisfied: chardet<4,>=3.0.2 in /usr/local/lib/python3.7/dist-packages (from requests->streamlit) (3.0.4)\n",
            "Requirement already satisfied: idna<3,>=2.5 in /usr/local/lib/python3.7/dist-packages (from requests->streamlit) (2.10)\n",
            "\u001b[31mERROR: Operation cancelled by user\u001b[0m\n"
          ]
        }
      ],
      "source": [
        "!pip install streamlit"
      ]
    },
    {
      "cell_type": "code",
      "source": [
        "!pip install streamlit-aggrid"
      ],
      "metadata": {
        "colab": {
          "base_uri": "https://localhost:8080/"
        },
        "id": "II_FfI8wbrXs",
        "outputId": "f9f230bc-c876-4c46-cf84-40e783f770d1"
      },
      "execution_count": 4,
      "outputs": [
        {
          "output_type": "stream",
          "name": "stdout",
          "text": [
            "Collecting streamlit-aggrid\n",
            "  Downloading streamlit_aggrid-0.2.3.post2-py3-none-any.whl (3.5 MB)\n",
            "\u001b[K     |████████████████████████████████| 3.5 MB 2.2 MB/s \n",
            "\u001b[?25hRequirement already satisfied: pandas>=1.2 in /usr/local/lib/python3.7/dist-packages (from streamlit-aggrid) (1.3.5)\n",
            "Collecting simplejson>=3.0\n",
            "  Downloading simplejson-3.17.6-cp37-cp37m-manylinux_2_5_x86_64.manylinux1_x86_64.manylinux_2_12_x86_64.manylinux2010_x86_64.whl (130 kB)\n",
            "\u001b[K     |████████████████████████████████| 130 kB 39.8 MB/s \n",
            "\u001b[?25hRequirement already satisfied: streamlit>=0.87.0 in /usr/local/lib/python3.7/dist-packages (from streamlit-aggrid) (1.9.0)\n",
            "Collecting python-dotenv<0.20.0,>=0.19.1\n",
            "  Downloading python_dotenv-0.19.2-py2.py3-none-any.whl (17 kB)\n",
            "Requirement already satisfied: numpy>=1.17.3 in /usr/local/lib/python3.7/dist-packages (from pandas>=1.2->streamlit-aggrid) (1.21.6)\n",
            "Requirement already satisfied: pytz>=2017.3 in /usr/local/lib/python3.7/dist-packages (from pandas>=1.2->streamlit-aggrid) (2022.1)\n",
            "Requirement already satisfied: python-dateutil>=2.7.3 in /usr/local/lib/python3.7/dist-packages (from pandas>=1.2->streamlit-aggrid) (2.8.2)\n",
            "Requirement already satisfied: six>=1.5 in /usr/local/lib/python3.7/dist-packages (from python-dateutil>=2.7.3->pandas>=1.2->streamlit-aggrid) (1.15.0)\n",
            "Requirement already satisfied: altair>=3.2.0 in /usr/local/lib/python3.7/dist-packages (from streamlit>=0.87.0->streamlit-aggrid) (4.2.0)\n",
            "Requirement already satisfied: protobuf!=3.11,>=3.6.0 in /usr/local/lib/python3.7/dist-packages (from streamlit>=0.87.0->streamlit-aggrid) (3.17.3)\n",
            "Requirement already satisfied: pillow>=6.2.0 in /usr/local/lib/python3.7/dist-packages (from streamlit>=0.87.0->streamlit-aggrid) (7.1.2)\n",
            "Requirement already satisfied: requests in /usr/local/lib/python3.7/dist-packages (from streamlit>=0.87.0->streamlit-aggrid) (2.23.0)\n",
            "Requirement already satisfied: cachetools>=4.0 in /usr/local/lib/python3.7/dist-packages (from streamlit>=0.87.0->streamlit-aggrid) (4.2.4)\n",
            "Requirement already satisfied: pydeck>=0.1.dev5 in /usr/local/lib/python3.7/dist-packages (from streamlit>=0.87.0->streamlit-aggrid) (0.7.1)\n",
            "Requirement already satisfied: gitpython!=3.1.19 in /usr/local/lib/python3.7/dist-packages (from streamlit>=0.87.0->streamlit-aggrid) (3.1.27)\n",
            "Requirement already satisfied: semver in /usr/local/lib/python3.7/dist-packages (from streamlit>=0.87.0->streamlit-aggrid) (2.13.0)\n",
            "Requirement already satisfied: typing-extensions in /usr/local/lib/python3.7/dist-packages (from streamlit>=0.87.0->streamlit-aggrid) (4.2.0)\n",
            "Requirement already satisfied: pyarrow in /usr/local/lib/python3.7/dist-packages (from streamlit>=0.87.0->streamlit-aggrid) (6.0.1)\n",
            "Requirement already satisfied: pympler>=0.9 in /usr/local/lib/python3.7/dist-packages (from streamlit>=0.87.0->streamlit-aggrid) (1.0.1)\n",
            "Requirement already satisfied: validators in /usr/local/lib/python3.7/dist-packages (from streamlit>=0.87.0->streamlit-aggrid) (0.19.0)\n",
            "Requirement already satisfied: tornado>=5.0 in /usr/local/lib/python3.7/dist-packages (from streamlit>=0.87.0->streamlit-aggrid) (6.1)\n",
            "Requirement already satisfied: packaging in /usr/local/lib/python3.7/dist-packages (from streamlit>=0.87.0->streamlit-aggrid) (21.3)\n",
            "Requirement already satisfied: toml in /usr/local/lib/python3.7/dist-packages (from streamlit>=0.87.0->streamlit-aggrid) (0.10.2)\n",
            "Requirement already satisfied: importlib-metadata>=1.4 in /usr/local/lib/python3.7/dist-packages (from streamlit>=0.87.0->streamlit-aggrid) (4.11.3)\n",
            "Requirement already satisfied: click<8.1,>=7.0 in /usr/local/lib/python3.7/dist-packages (from streamlit>=0.87.0->streamlit-aggrid) (7.1.2)\n",
            "Requirement already satisfied: watchdog in /usr/local/lib/python3.7/dist-packages (from streamlit>=0.87.0->streamlit-aggrid) (2.1.8)\n",
            "Requirement already satisfied: blinker in /usr/local/lib/python3.7/dist-packages (from streamlit>=0.87.0->streamlit-aggrid) (1.4)\n",
            "Requirement already satisfied: tzlocal in /usr/local/lib/python3.7/dist-packages (from streamlit>=0.87.0->streamlit-aggrid) (1.5.1)\n",
            "Requirement already satisfied: attrs in /usr/local/lib/python3.7/dist-packages (from streamlit>=0.87.0->streamlit-aggrid) (21.4.0)\n",
            "Requirement already satisfied: toolz in /usr/local/lib/python3.7/dist-packages (from altair>=3.2.0->streamlit>=0.87.0->streamlit-aggrid) (0.11.2)\n",
            "Requirement already satisfied: jsonschema>=3.0 in /usr/local/lib/python3.7/dist-packages (from altair>=3.2.0->streamlit>=0.87.0->streamlit-aggrid) (4.3.3)\n",
            "Requirement already satisfied: entrypoints in /usr/local/lib/python3.7/dist-packages (from altair>=3.2.0->streamlit>=0.87.0->streamlit-aggrid) (0.4)\n",
            "Requirement already satisfied: jinja2 in /usr/local/lib/python3.7/dist-packages (from altair>=3.2.0->streamlit>=0.87.0->streamlit-aggrid) (2.11.3)\n",
            "Requirement already satisfied: gitdb<5,>=4.0.1 in /usr/local/lib/python3.7/dist-packages (from gitpython!=3.1.19->streamlit>=0.87.0->streamlit-aggrid) (4.0.9)\n",
            "Requirement already satisfied: smmap<6,>=3.0.1 in /usr/local/lib/python3.7/dist-packages (from gitdb<5,>=4.0.1->gitpython!=3.1.19->streamlit>=0.87.0->streamlit-aggrid) (5.0.0)\n",
            "Requirement already satisfied: zipp>=0.5 in /usr/local/lib/python3.7/dist-packages (from importlib-metadata>=1.4->streamlit>=0.87.0->streamlit-aggrid) (3.8.0)\n",
            "Requirement already satisfied: importlib-resources>=1.4.0 in /usr/local/lib/python3.7/dist-packages (from jsonschema>=3.0->altair>=3.2.0->streamlit>=0.87.0->streamlit-aggrid) (5.7.1)\n",
            "Requirement already satisfied: pyrsistent!=0.17.0,!=0.17.1,!=0.17.2,>=0.14.0 in /usr/local/lib/python3.7/dist-packages (from jsonschema>=3.0->altair>=3.2.0->streamlit>=0.87.0->streamlit-aggrid) (0.18.1)\n",
            "Requirement already satisfied: traitlets>=4.3.2 in /usr/local/lib/python3.7/dist-packages (from pydeck>=0.1.dev5->streamlit>=0.87.0->streamlit-aggrid) (5.2.0)\n",
            "Requirement already satisfied: ipykernel>=5.1.2 in /usr/local/lib/python3.7/dist-packages (from pydeck>=0.1.dev5->streamlit>=0.87.0->streamlit-aggrid) (6.13.0)\n",
            "Requirement already satisfied: ipywidgets>=7.0.0 in /usr/local/lib/python3.7/dist-packages (from pydeck>=0.1.dev5->streamlit>=0.87.0->streamlit-aggrid) (7.7.0)\n",
            "Requirement already satisfied: debugpy>=1.0 in /usr/local/lib/python3.7/dist-packages (from ipykernel>=5.1.2->pydeck>=0.1.dev5->streamlit>=0.87.0->streamlit-aggrid) (1.0.0)\n",
            "Requirement already satisfied: ipython>=7.23.1 in /usr/local/lib/python3.7/dist-packages (from ipykernel>=5.1.2->pydeck>=0.1.dev5->streamlit>=0.87.0->streamlit-aggrid) (7.33.0)\n",
            "Requirement already satisfied: jupyter-client>=6.1.12 in /usr/local/lib/python3.7/dist-packages (from ipykernel>=5.1.2->pydeck>=0.1.dev5->streamlit>=0.87.0->streamlit-aggrid) (7.3.1)\n",
            "Requirement already satisfied: nest-asyncio in /usr/local/lib/python3.7/dist-packages (from ipykernel>=5.1.2->pydeck>=0.1.dev5->streamlit>=0.87.0->streamlit-aggrid) (1.5.5)\n",
            "Requirement already satisfied: matplotlib-inline>=0.1 in /usr/local/lib/python3.7/dist-packages (from ipykernel>=5.1.2->pydeck>=0.1.dev5->streamlit>=0.87.0->streamlit-aggrid) (0.1.3)\n",
            "Requirement already satisfied: psutil in /usr/local/lib/python3.7/dist-packages (from ipykernel>=5.1.2->pydeck>=0.1.dev5->streamlit>=0.87.0->streamlit-aggrid) (5.4.8)\n",
            "Requirement already satisfied: pexpect>4.3 in /usr/local/lib/python3.7/dist-packages (from ipython>=7.23.1->ipykernel>=5.1.2->pydeck>=0.1.dev5->streamlit>=0.87.0->streamlit-aggrid) (4.8.0)\n",
            "Requirement already satisfied: prompt-toolkit!=3.0.0,!=3.0.1,<3.1.0,>=2.0.0 in /usr/local/lib/python3.7/dist-packages (from ipython>=7.23.1->ipykernel>=5.1.2->pydeck>=0.1.dev5->streamlit>=0.87.0->streamlit-aggrid) (3.0.29)\n",
            "Requirement already satisfied: pickleshare in /usr/local/lib/python3.7/dist-packages (from ipython>=7.23.1->ipykernel>=5.1.2->pydeck>=0.1.dev5->streamlit>=0.87.0->streamlit-aggrid) (0.7.5)\n",
            "Requirement already satisfied: decorator in /usr/local/lib/python3.7/dist-packages (from ipython>=7.23.1->ipykernel>=5.1.2->pydeck>=0.1.dev5->streamlit>=0.87.0->streamlit-aggrid) (4.4.2)\n",
            "Requirement already satisfied: pygments in /usr/local/lib/python3.7/dist-packages (from ipython>=7.23.1->ipykernel>=5.1.2->pydeck>=0.1.dev5->streamlit>=0.87.0->streamlit-aggrid) (2.6.1)\n",
            "Requirement already satisfied: jedi>=0.16 in /usr/local/lib/python3.7/dist-packages (from ipython>=7.23.1->ipykernel>=5.1.2->pydeck>=0.1.dev5->streamlit>=0.87.0->streamlit-aggrid) (0.18.1)\n",
            "Requirement already satisfied: setuptools>=18.5 in /usr/local/lib/python3.7/dist-packages (from ipython>=7.23.1->ipykernel>=5.1.2->pydeck>=0.1.dev5->streamlit>=0.87.0->streamlit-aggrid) (57.4.0)\n",
            "Requirement already satisfied: backcall in /usr/local/lib/python3.7/dist-packages (from ipython>=7.23.1->ipykernel>=5.1.2->pydeck>=0.1.dev5->streamlit>=0.87.0->streamlit-aggrid) (0.2.0)\n",
            "Requirement already satisfied: jupyterlab-widgets>=1.0.0 in /usr/local/lib/python3.7/dist-packages (from ipywidgets>=7.0.0->pydeck>=0.1.dev5->streamlit>=0.87.0->streamlit-aggrid) (1.1.0)\n",
            "Requirement already satisfied: nbformat>=4.2.0 in /usr/local/lib/python3.7/dist-packages (from ipywidgets>=7.0.0->pydeck>=0.1.dev5->streamlit>=0.87.0->streamlit-aggrid) (5.4.0)\n",
            "Requirement already satisfied: widgetsnbextension~=3.6.0 in /usr/local/lib/python3.7/dist-packages (from ipywidgets>=7.0.0->pydeck>=0.1.dev5->streamlit>=0.87.0->streamlit-aggrid) (3.6.0)\n",
            "Requirement already satisfied: ipython-genutils~=0.2.0 in /usr/local/lib/python3.7/dist-packages (from ipywidgets>=7.0.0->pydeck>=0.1.dev5->streamlit>=0.87.0->streamlit-aggrid) (0.2.0)\n",
            "Requirement already satisfied: parso<0.9.0,>=0.8.0 in /usr/local/lib/python3.7/dist-packages (from jedi>=0.16->ipython>=7.23.1->ipykernel>=5.1.2->pydeck>=0.1.dev5->streamlit>=0.87.0->streamlit-aggrid) (0.8.3)\n",
            "Requirement already satisfied: MarkupSafe>=0.23 in /usr/local/lib/python3.7/dist-packages (from jinja2->altair>=3.2.0->streamlit>=0.87.0->streamlit-aggrid) (2.0.1)\n",
            "Requirement already satisfied: jupyter-core>=4.9.2 in /usr/local/lib/python3.7/dist-packages (from jupyter-client>=6.1.12->ipykernel>=5.1.2->pydeck>=0.1.dev5->streamlit>=0.87.0->streamlit-aggrid) (4.10.0)\n",
            "Requirement already satisfied: pyzmq>=22.3 in /usr/local/lib/python3.7/dist-packages (from jupyter-client>=6.1.12->ipykernel>=5.1.2->pydeck>=0.1.dev5->streamlit>=0.87.0->streamlit-aggrid) (22.3.0)\n",
            "Requirement already satisfied: fastjsonschema in /usr/local/lib/python3.7/dist-packages (from nbformat>=4.2.0->ipywidgets>=7.0.0->pydeck>=0.1.dev5->streamlit>=0.87.0->streamlit-aggrid) (2.15.3)\n",
            "Requirement already satisfied: ptyprocess>=0.5 in /usr/local/lib/python3.7/dist-packages (from pexpect>4.3->ipython>=7.23.1->ipykernel>=5.1.2->pydeck>=0.1.dev5->streamlit>=0.87.0->streamlit-aggrid) (0.7.0)\n",
            "Requirement already satisfied: wcwidth in /usr/local/lib/python3.7/dist-packages (from prompt-toolkit!=3.0.0,!=3.0.1,<3.1.0,>=2.0.0->ipython>=7.23.1->ipykernel>=5.1.2->pydeck>=0.1.dev5->streamlit>=0.87.0->streamlit-aggrid) (0.2.5)\n",
            "Requirement already satisfied: notebook>=4.4.1 in /usr/local/lib/python3.7/dist-packages (from widgetsnbextension~=3.6.0->ipywidgets>=7.0.0->pydeck>=0.1.dev5->streamlit>=0.87.0->streamlit-aggrid) (5.3.1)\n",
            "Requirement already satisfied: nbconvert in /usr/local/lib/python3.7/dist-packages (from notebook>=4.4.1->widgetsnbextension~=3.6.0->ipywidgets>=7.0.0->pydeck>=0.1.dev5->streamlit>=0.87.0->streamlit-aggrid) (5.6.1)\n",
            "Requirement already satisfied: Send2Trash in /usr/local/lib/python3.7/dist-packages (from notebook>=4.4.1->widgetsnbextension~=3.6.0->ipywidgets>=7.0.0->pydeck>=0.1.dev5->streamlit>=0.87.0->streamlit-aggrid) (1.8.0)\n",
            "Requirement already satisfied: terminado>=0.8.1 in /usr/local/lib/python3.7/dist-packages (from notebook>=4.4.1->widgetsnbextension~=3.6.0->ipywidgets>=7.0.0->pydeck>=0.1.dev5->streamlit>=0.87.0->streamlit-aggrid) (0.13.3)\n",
            "Requirement already satisfied: mistune<2,>=0.8.1 in /usr/local/lib/python3.7/dist-packages (from nbconvert->notebook>=4.4.1->widgetsnbextension~=3.6.0->ipywidgets>=7.0.0->pydeck>=0.1.dev5->streamlit>=0.87.0->streamlit-aggrid) (0.8.4)\n",
            "Requirement already satisfied: testpath in /usr/local/lib/python3.7/dist-packages (from nbconvert->notebook>=4.4.1->widgetsnbextension~=3.6.0->ipywidgets>=7.0.0->pydeck>=0.1.dev5->streamlit>=0.87.0->streamlit-aggrid) (0.6.0)\n",
            "Requirement already satisfied: pandocfilters>=1.4.1 in /usr/local/lib/python3.7/dist-packages (from nbconvert->notebook>=4.4.1->widgetsnbextension~=3.6.0->ipywidgets>=7.0.0->pydeck>=0.1.dev5->streamlit>=0.87.0->streamlit-aggrid) (1.5.0)\n",
            "Requirement already satisfied: defusedxml in /usr/local/lib/python3.7/dist-packages (from nbconvert->notebook>=4.4.1->widgetsnbextension~=3.6.0->ipywidgets>=7.0.0->pydeck>=0.1.dev5->streamlit>=0.87.0->streamlit-aggrid) (0.7.1)\n",
            "Requirement already satisfied: bleach in /usr/local/lib/python3.7/dist-packages (from nbconvert->notebook>=4.4.1->widgetsnbextension~=3.6.0->ipywidgets>=7.0.0->pydeck>=0.1.dev5->streamlit>=0.87.0->streamlit-aggrid) (5.0.0)\n",
            "Requirement already satisfied: webencodings in /usr/local/lib/python3.7/dist-packages (from bleach->nbconvert->notebook>=4.4.1->widgetsnbextension~=3.6.0->ipywidgets>=7.0.0->pydeck>=0.1.dev5->streamlit>=0.87.0->streamlit-aggrid) (0.5.1)\n",
            "Requirement already satisfied: pyparsing!=3.0.5,>=2.0.2 in /usr/local/lib/python3.7/dist-packages (from packaging->streamlit>=0.87.0->streamlit-aggrid) (3.0.9)\n",
            "Requirement already satisfied: urllib3!=1.25.0,!=1.25.1,<1.26,>=1.21.1 in /usr/local/lib/python3.7/dist-packages (from requests->streamlit>=0.87.0->streamlit-aggrid) (1.24.3)\n",
            "Requirement already satisfied: idna<3,>=2.5 in /usr/local/lib/python3.7/dist-packages (from requests->streamlit>=0.87.0->streamlit-aggrid) (2.10)\n",
            "Requirement already satisfied: certifi>=2017.4.17 in /usr/local/lib/python3.7/dist-packages (from requests->streamlit>=0.87.0->streamlit-aggrid) (2021.10.8)\n",
            "Requirement already satisfied: chardet<4,>=3.0.2 in /usr/local/lib/python3.7/dist-packages (from requests->streamlit>=0.87.0->streamlit-aggrid) (3.0.4)\n",
            "Installing collected packages: simplejson, python-dotenv, streamlit-aggrid\n",
            "Successfully installed python-dotenv-0.19.2 simplejson-3.17.6 streamlit-aggrid-0.2.3.post2\n"
          ]
        }
      ]
    },
    {
      "cell_type": "code",
      "source": [
        "!pip install pyngrok==4.1.1"
      ],
      "metadata": {
        "colab": {
          "base_uri": "https://localhost:8080/"
        },
        "id": "QY4OV1wbb4Zr",
        "outputId": "8d46b867-a3c2-4ad2-b5d4-8691102d6da6"
      },
      "execution_count": 5,
      "outputs": [
        {
          "output_type": "stream",
          "name": "stdout",
          "text": [
            "Collecting pyngrok==4.1.1\n",
            "  Downloading pyngrok-4.1.1.tar.gz (18 kB)\n",
            "Requirement already satisfied: future in /usr/local/lib/python3.7/dist-packages (from pyngrok==4.1.1) (0.16.0)\n",
            "Requirement already satisfied: PyYAML in /usr/local/lib/python3.7/dist-packages (from pyngrok==4.1.1) (3.13)\n",
            "Building wheels for collected packages: pyngrok\n",
            "  Building wheel for pyngrok (setup.py) ... \u001b[?25l\u001b[?25hdone\n",
            "  Created wheel for pyngrok: filename=pyngrok-4.1.1-py3-none-any.whl size=15983 sha256=3b5b38a8bfc771376dfc96df86f977296d47da86af5c16b6a76b1c811e3f0e2f\n",
            "  Stored in directory: /root/.cache/pip/wheels/b1/d9/12/045a042fee3127dc40ba6f5df2798aa2df38c414bf533ca765\n",
            "Successfully built pyngrok\n",
            "Installing collected packages: pyngrok\n",
            "Successfully installed pyngrok-4.1.1\n"
          ]
        }
      ]
    },
    {
      "cell_type": "code",
      "source": [
        "import pandas as pd\n",
        "data  = pd.read_csv('Loan_Default.csv') "
      ],
      "metadata": {
        "id": "0rPNFkF1b-IX"
      },
      "execution_count": 6,
      "outputs": []
    },
    {
      "cell_type": "code",
      "source": [
        "%%writefile app.py\n",
        "import streamlit as st\n",
        "import pandas as pd\n",
        "import plotly.express as px\n",
        "import matplotlib.pyplot as plt\n",
        "import seaborn as sns\n",
        "from wordcloud import WordCloud, STOPWORDS\n",
        "from st_aggrid import GridOptionsBuilder, AgGrid, GridUpdateMode, DataReturnMode\n",
        "import plotly.graph_objects as go\n",
        "\n",
        "\n",
        "st.title('Loan Default Prediction Application')\n",
        "st.subheader('\\n\\n\\n\\n\\t\\t\\n\\n Application developed by:')\n",
        "st.subheader('\\n\\n\\n\\n\\t\\t\\n\\n 1) Vaishnavi Vejella')\n",
        "st.subheader('\\n\\n\\n\\n\\t\\t\\n\\n 2) Rakesh Reddy Pulichintala')\n",
        "st.subheader('\\n\\n\\n\\n\\t\\t\\n\\n 3) Narendra Kumar Thumma')\n",
        "st.subheader('\\n\\n\\n\\n\\t\\t\\n\\n\\n\\n\\n\\n\\n Under the guidance of:')\n",
        "st.subheader('\\n\\n\\n\\n\\t\\t\\n\\n\\n Prof. Chaojie Wang')\n",
        "\n",
        "\n",
        "def load_data():\n",
        "    df=pd.read_csv('/content/Loan_Default.csv',sep = ',')\n",
        "    return df\n",
        "\n",
        "data = load_data()\n",
        "\n",
        "\n",
        "#print(data)\n",
        "cbox=st.sidebar.checkbox('Display Data')\n",
        "vbox=st.sidebar.checkbox('Click to View Visualizations')\n",
        "pbox=st.sidebar.checkbox('Click to Start Predictions')\n",
        "if cbox:\n",
        "    st.dataframe(data=data)\n",
        "    \n",
        "elif vbox:\n",
        "    st.text(\" \")\n",
        "    st.text(\" \")\n",
        "\n",
        "    st.markdown(\"## Below are the results and findings of the data after the EDA \")\n",
        "\n",
        "    #cleaning of columns and chaning to appropriate data types\n",
        "    data1=data.copy(deep=True)\n",
        "    data1['Gender']=data1['Gender'].astype('category')\n",
        "    data1['approv_in_adv']=data1['approv_in_adv'].astype('category')\n",
        "    data1['loan_limit']=data1['loan_limit'].astype('category')\n",
        "    data1['loan_type']=data1['loan_type'].astype('category')\n",
        "    data1['loan_purpose']=data1['loan_purpose'].astype('category')\n",
        "    data1['Credit_Worthiness']=data1['Credit_Worthiness'].astype('category')\n",
        "    data1['open_credit']=data1['open_credit'].astype('category')\n",
        "    data1['business_or_commercial']=data1['business_or_commercial'].astype('category')\n",
        "    data1['Neg_ammortization']=data1['Neg_ammortization'].astype('category')\n",
        "    data1['interest_only']=data1['interest_only'].astype('category')\n",
        "    data1['lump_sum_payment']=data1['lump_sum_payment'].astype('category')\n",
        "    data1['construction_type']=data1['construction_type'].astype('category')\n",
        "    data1['occupancy_type']=data1['occupancy_type'].astype('category')\n",
        "    data1['Secured_by']=data1['Secured_by'].astype('category')\n",
        "    data1['total_units']=data1['total_units'].astype('category')\n",
        "    data1['credit_type']=data1['credit_type'].astype('category')\n",
        "    data1['co-applicant_credit_type']=data1['co-applicant_credit_type'].astype('category')\n",
        "    data1['submission_of_application']=data1['submission_of_application'].astype('category')\n",
        "    data1['Region']=data1['Region'].astype('category')\n",
        "    data1['Security_Type']=data1['Security_Type'].astype('category')\n",
        "\n",
        "# plot 1\n",
        "    st.markdown('### Distribution of loan_amount:')\n",
        "    fig=plt.figure(figsize=(10,5))\n",
        "    (sns.distplot(data1['loan_amount'],bins=50,kde=True,color = \"green\")).set(xlabel=\"Loan amount in millions\", ylabel = \"Count\", title='Distribution of Loan Amount')\n",
        "    fig.show()\n",
        "    st.plotly_chart(fig)\n",
        "    st.markdown('Most of the values of loan applications are in the ranges beween 250 K to 500 K.')\n",
        "\n",
        "# plot 2\n",
        "    st.markdown('### Distribition of loan applications by gender:')\n",
        "    \n",
        "    #import matplotlib.pyplot as plt\n",
        "    fig = px.histogram(data1, x=\"Gender\")\n",
        "    fig.show()\n",
        "    st.plotly_chart(fig)\n",
        "    st.markdown('We can see that the joint applications (i. e., both male and female) are the highest and individually male application sare higher than females.')\n",
        "\n",
        "# plot 3\n",
        "    st.markdown('### Distribution of loan applicants by credit type:')\n",
        "    fig = px.histogram(data1, x=\"credit_type\")\n",
        "    fig.show()\n",
        "    st.plotly_chart(fig)\n",
        "    st.markdown('The loan applications with **CIB** & **CRIF** are the highest when comapred to other two types..')\n",
        "\n",
        "# plot 4\n",
        "    st.markdown('### Distribution of loan applicants by occupancy type:')\n",
        "    fig = px.histogram(data1, x=\"occupancy_type\")\n",
        "    fig.show()\n",
        "    st.plotly_chart(fig)\n",
        "    st.markdown('The loan applications with occupany_type **pr** are the highest when compared to the other types of accupancies. here ir=Industrial,pr=Personal, sr=Structural (Used for various commercial activities).')\n",
        "\n",
        "# plot 5\n",
        "    st.markdown('### Distribution of loan applicants by purpose of the loan:')\n",
        "    fig = px.histogram(data1, x=\"loan_purpose\")\n",
        "    fig.show()\n",
        "    st.plotly_chart(fig)\n",
        "    st.markdown('The purposes **p3,p4** types are the highest among other loan applications and here p1= Commercial, p2= Structural Services, p3= Personal, p4= Industrial.')\n",
        "\n",
        "#plot 6\n",
        "    st.markdown('### Distribution of Interest rates:')\n",
        "    fig=plt.figure(figsize=(10,5))\n",
        "    (sns.distplot(data1['rate_of_interest'],bins=50,kde=True,color = \"green\")).set(xlabel=\"Rate of interest\", ylabel = \"Count\", title='Distribution of Interest rates')\n",
        "    fig.show()\n",
        "    st.plotly_chart(fig)\n",
        "    st.markdown('The interest rates for most of the loans are in the range between 3 and 5.')\n",
        "\n",
        "#plot 7\n",
        "    st.markdown('### Distribution of Loan amount in terms of months:')\n",
        "    fig=plt.figure(figsize=(10,5))\n",
        "    (sns.distplot(data1['term'],bins=50,kde=True,color = \"green\")).set(xlabel=\"Loan amount in terms of months\", ylabel = \"Count\", title='Distribution of Loan terms (in months)')\n",
        "    fig.show()\n",
        "    st.plotly_chart(fig)\n",
        "    st.markdown('Most of the loan terms are in the range of **300 to 400 months**.')\n",
        "\n",
        "#plot 8\n",
        "    st.markdown('### Distribution of Property values:')\n",
        "    fig=plt.figure(figsize=(10,5))\n",
        "    (sns.distplot(data1['property_value'],bins=50,kde=True,color = \"green\")).set(xlabel=\"Property in millions\", ylabel = \"Count\", title='Distribution of Property Values')\n",
        "    fig.show()\n",
        "    st.plotly_chart(fig)\n",
        "    st.markdown('The values of the collateral properties for loan applications are in the ranges of 100k to 1000K.')\n",
        "\n",
        "#plot 9\n",
        "    st.markdown('### Visualization of age groups of loan applicants:')\n",
        "    fig = px.histogram(data1, x=\"age\")\n",
        "    fig.show()\n",
        "    st.plotly_chart(fig)\n",
        "    st.markdown('The age of the loan applicants are in the range of **45-54** is highest are followed by applicants b/w **35-44** age.')\n",
        "\n",
        "#plot 10\n",
        "    st.markdown('### Comparision of loan amounts by interest rates :')\n",
        "    fig=plt.figure(figsize=(10,4))\n",
        "    sns.lineplot(x='loan_amount',y='rate_of_interest', data =data1, color = 'b')\n",
        "    fig.show()\n",
        "    st.plotly_chart(fig)\n",
        "    st.markdown('Here there is no steady interest rates. We can see that the interest rates are floating with respect to the loan amounts.')\n",
        "\n",
        "#plot 11\n",
        "    st.markdown('### Comaprision of Interest rates by Gender:')\n",
        "    fig=plt.figure(figsize=(10,4))\n",
        "    sns.barplot(x=data1['Gender'],y=data1['rate_of_interest'])\n",
        "    st.plotly_chart(fig)\n",
        "    st.markdown('We can see that the interest rates for loan applications does not vary by gender and here 0=female, 1=Joint, 2=male, 3=sex not available.')\n",
        "\n",
        "#plot 12\n",
        "    st.markdown('### Comaprision of loan amount  by Gender:')\n",
        "    fig=plt.figure(figsize=(10,4))\n",
        "    sns.barplot(data1['Gender'],data1['loan_amount'])\n",
        "    st.plotly_chart(fig)\n",
        "    st.markdown('We can see that the loan amount for **joint** loan applications are higher then followed by **male** applicants and here 0=female, 1=Joint, 2=male, 3=sex not available.')\n",
        "\n",
        "#plot 13\n",
        "    st.markdown('### Comparision of credit score by credit type:')\n",
        "    fig=go.Figure(go.Bar(x=data1['credit_type'],y=data1['Credit_Score']))\n",
        "    fig.update_layout(barmode='stack')\n",
        "    st.plotly_chart(fig)\n",
        "\n",
        "\n",
        "\n",
        "elif pbox:\n",
        "    import numpy as np\n",
        "    df=data[['loan_limit', 'Gender', 'approv_in_adv', 'loan_type', 'Credit_Worthiness','open_credit','business_or_commercial','loan_amount','rate_of_interest','property_value',\n",
        "         'construction_type','occupancy_type','total_units','income','credit_type','Credit_Score','age','Region','Status']]\n",
        "    df = df.fillna(df.median())\n",
        "    df['loan_limit'].fillna(df['loan_limit'].mode()[0], inplace=True)\n",
        "    df['approv_in_adv'].fillna(df['approv_in_adv'].mode()[0], inplace=True)\n",
        "    df['age'].fillna(df['age'].mode()[0], inplace=True)\n",
        "    list_col = ['loan_amount','rate_of_interest','property_value','income','Credit_Score']\n",
        "    from scipy import stats\n",
        "    z=np.abs(stats.zscore(df[list_col]))\n",
        "    tresh_z_score=3\n",
        "    #Creating another datframe after removing the outliers in the previous dataframe\n",
        "    df1=df[(z<tresh_z_score).all(axis=1)]\n",
        "    from sklearn.utils import resample\n",
        "    #create two different dataframe of majority and minority class \n",
        "    df_majority = df1[(df1['Status']==0)] \n",
        "    df_minority = df1[(df1['Status']==1)] \n",
        "    # upsample minority class\n",
        "    df_minority_upsampled = resample(df_minority, replace=True,n_samples= 107762, random_state=42)  \n",
        "    df1 = pd.concat([df_minority_upsampled, df_majority])\n",
        "    #Seperating the columns as target and features\n",
        "    x = [x for x in df1.columns if x != 'Status']\n",
        "    X=df1[x]\n",
        "    y= df1['Status']\n",
        "    X=pd.get_dummies(X,drop_first=True)\n",
        "    #Dropping the unimportant features\n",
        "    X.drop(['Region_central','Region_North-East','open_credit_opc','age_55-64','age_<25','occupancy_type_pr','rate_of_interest','total_units_4U','occupancy_type_sr','loan_type_type3','age_45-54','construction_type_sb'],axis=1,inplace=True)\n",
        "    X.rename(columns = {'Gender_Sex Not Available':'Gender_Sex_Not_Available'}, inplace = True)\n",
        "    from sklearn.model_selection import train_test_split\n",
        "\n",
        "    X_train, X_test, y_train, y_test = train_test_split(X, y, test_size=0.3,random_state=50,stratify=y)\n",
        "    from sklearn.pipeline import Pipeline\n",
        "    from sklearn.impute import SimpleImputer\n",
        "    from sklearn.preprocessing import StandardScaler\n",
        "    from sklearn.tree import DecisionTreeClassifier\n",
        "    from sklearn.model_selection import GridSearchCV\n",
        "    from sklearn.pipeline import Pipeline\n",
        "    processing_pipeline = Pipeline([('impute_missing', SimpleImputer(missing_values=0,strategy='median')),('scaler', StandardScaler())])\n",
        "    from sklearn.linear_model import LogisticRegression\n",
        "    from sklearn.metrics import accuracy_score\n",
        "    from sklearn.metrics import classification_report\n",
        "    modeling_pipeline = Pipeline([('data_processing', processing_pipeline),('lr', LogisticRegression(penalty='l2'))])\n",
        "    lr = modeling_pipeline.fit(X_train, y_train)\n",
        "    predictions=lr.predict(X_test)\n",
        "    from sklearn.metrics import roc_auc_score\n",
        "    probabilities = lr.predict_proba(X_test)\n",
        "    #st.write(roc_auc_score(y_test,probabilities[:,1]))\n",
        "\n",
        "\n",
        "\n",
        "\n",
        "    a_loan_amount = st.slider('Enter Loan Amount',0,10000000, step=1000)\n",
        "    a_property_value=st.slider('Enter Property Value',0,10000000, step=1000)\n",
        "    a_income=st.slider('Enter Income Levels of Applicant',0,10000000, step=1000)\n",
        "    a_Credit_Score=st.slider('Enter Credit Score of Applicant',0,10000000, step=1000)\n",
        "    a_loan_limit_ncf=0\n",
        "    a_Gender_Joint=0\n",
        "    app_gender = st.selectbox('Enter Applicants Gender',\n",
        "    ('Male', 'Female', 'Joint'))\n",
        "    if app_gender=='Male':\n",
        "      a_gender=1\n",
        "    else:\n",
        "      a_gender=0\n",
        "\n",
        "    a_Gender_Sex_Not_Available=0\n",
        "    app_adv_loan=st.selectbox('Has the loan pre-approved',\n",
        "    ('Yes', 'No'))\n",
        "    if app_adv_loan=='Yes':\n",
        "      a_app_adv_loan=1\n",
        "    else:\n",
        "      a_app_adv_loan=0\n",
        "\n",
        "    a_loan_type_type2=0\n",
        "    a_Credit_Worthiness_l2=0\n",
        "    \n",
        "    app_business_or_commercial=st.selectbox('Purpose of the loan',\n",
        "    ('Business', 'Personal','Commercial'))\n",
        "    if app_business_or_commercial=='Business' or 'Commercial':\n",
        "      a_business_or_commercial=1\n",
        "    else:\n",
        "      a_business_or_commercial=0\n",
        "\n",
        "    a_total_units_2U=0\n",
        "    a_total_units_3U=1\n",
        "    a_Region_south=1\n",
        "\n",
        "    app_credit_type=st.selectbox('Enter the Credit type of the applicant',\n",
        "    ('EQUI', 'EXP','CRIF'))\n",
        "\n",
        "    if app_credit_type=='EQUI':\n",
        "      a_credit_type_equi=1\n",
        "      a_credit_type_exp=0\n",
        "      a_credit_type_crif=0\n",
        "    elif app_credit_type=='EXP':\n",
        "      a_credit_type_equi=0\n",
        "      a_credit_type_exp=1\n",
        "      a_credit_type_crif=0\n",
        "    else:\n",
        "      a_credit_type_equi=0\n",
        "      a_credit_type_exp=0\n",
        "      a_credit_type_crif=1\n",
        "\n",
        "    app_age=st.selectbox('Enter the Age range of the applicant',\n",
        "    ('18-34', '35-54','55-74','74+'))\n",
        "\n",
        "    if app_age=='18-34':\n",
        "      a_age_35_44=0\n",
        "      a_age_65_74=0\n",
        "      a_age_74=0\n",
        "\n",
        "    elif app_age=='35-54':\n",
        "      a_age_35_44=1\n",
        "      a_age_65_74=0\n",
        "      a_age_74=0\n",
        "\n",
        "    elif app_age=='55-74':\n",
        "      a_age_35_44=0\n",
        "      a_age_65_74=1\n",
        "      a_age_74=0\n",
        "\n",
        "    else:\n",
        "      a_age_35_44=0\n",
        "      a_age_65_74=0\n",
        "      a_age_74=1\n",
        "\n",
        "    a_f=lr.predict([[a_loan_amount,a_property_value,a_income,a_Credit_Score,a_loan_limit_ncf,a_Gender_Joint,a_gender,a_Gender_Sex_Not_Available,a_app_adv_loan,a_loan_type_type2,a_Credit_Worthiness_l2,a_business_or_commercial,a_total_units_2U,a_total_units_3U,a_credit_type_crif,a_credit_type_equi,a_credit_type_exp,a_age_35_44,a_age_65_74,a_age_74,a_Region_south]])\n",
        "    a_f=a_f.tolist()\n",
        "   \n",
        "    if a_f[0]==1:\n",
        "      st.markdown('<p style=\"text-align:center;\"><img src=\"https://media4.giphy.com/media/1ziUpB4wyJe953TIPe/200w.gif\" width = 300,height=250, alt=\"Logo\"></p>', unsafe_allow_html=True)\n",
        "    else:\n",
        "      st.markdown('<p style=\"text-align:center;\"><img src=\"https://c.tenor.com/7TsXLjyH2woAAAAM/denied-saquinon.gif\" width = 300,height=250, alt=\"Logo\"></p>', unsafe_allow_html=True)\n",
        "\n"
      ],
      "metadata": {
        "colab": {
          "base_uri": "https://localhost:8080/"
        },
        "id": "Tj4S23jccJ_g",
        "outputId": "a411f5ef-d22f-4c73-cff6-ed5dfac2fd48"
      },
      "execution_count": 35,
      "outputs": [
        {
          "output_type": "stream",
          "name": "stdout",
          "text": [
            "Overwriting app.py\n"
          ]
        }
      ]
    },
    {
      "cell_type": "code",
      "source": [
        "!ls # list the files"
      ],
      "metadata": {
        "colab": {
          "base_uri": "https://localhost:8080/"
        },
        "id": "qdKIrJyScNCG",
        "outputId": "fc2ff717-7f6a-4761-af18-1b007278ea6e"
      },
      "execution_count": 8,
      "outputs": [
        {
          "output_type": "stream",
          "name": "stdout",
          "text": [
            "app.py\tLoan_Default.csv  sample_data\n"
          ]
        }
      ]
    },
    {
      "cell_type": "code",
      "source": [
        "!pip install ngrok"
      ],
      "metadata": {
        "colab": {
          "base_uri": "https://localhost:8080/"
        },
        "id": "3CzMFaUQE3Dv",
        "outputId": "13bc200c-ef1c-47ea-9c4c-fa53fb869837"
      },
      "execution_count": 9,
      "outputs": [
        {
          "output_type": "stream",
          "name": "stdout",
          "text": [
            "Collecting ngrok\n",
            "  Downloading ngrok-0.1.6.tar.gz (3.5 kB)\n",
            "Collecting ping\n",
            "  Downloading ping-0.2.tar.gz (10 kB)\n",
            "\u001b[33mWARNING: Discarding https://files.pythonhosted.org/packages/03/ac/9a3f332f8d7d27cd8929922b2e225842c1623760364b37fc79dc0f65e77d/ping-0.2.tar.gz#sha256=ecb32294c2af8ae075de4a3743f568db376480ad81c2e010a7f1ce1cee7b030f (from https://pypi.org/simple/ping/). Command errored out with exit status 1: python setup.py egg_info Check the logs for full command output.\u001b[0m\n",
            "  Downloading ping-0.1.tar.gz (10 kB)\n",
            "\u001b[33mWARNING: Discarding https://files.pythonhosted.org/packages/e6/e1/0d6a865e59fc27e13c0f39afea889f34a62b209046bfb863b62b614e5a3a/ping-0.1.tar.gz#sha256=e86c646487241be6e44262b182f0fbfdc2c00f2a4a0b7b3f0c499137957d81c1 (from https://pypi.org/simple/ping/). Command errored out with exit status 1: python setup.py egg_info Check the logs for full command output.\u001b[0m\n",
            "Collecting ngrok\n",
            "  Downloading ngrok-0.1.5.tar.gz (3.5 kB)\n",
            "  Downloading ngrok-0.1.4-py3-none-any.whl (4.3 kB)\n",
            "  Downloading ngrok-0.0.1.tar.gz (1.4 kB)\n",
            "Building wheels for collected packages: ngrok\n",
            "  Building wheel for ngrok (setup.py) ... \u001b[?25l\u001b[?25hdone\n",
            "  Created wheel for ngrok: filename=ngrok-0.0.1-py3-none-any.whl size=3061 sha256=b5e719060a31de73d7161185fd09f93121d7771bfb30acb308afd6d53a4ec2c9\n",
            "  Stored in directory: /root/.cache/pip/wheels/b2/f2/1e/11e57b35a7c1ea622a4cff4d9622bebd373f6371f3b1728a00\n",
            "Successfully built ngrok\n",
            "Installing collected packages: ngrok\n",
            "Successfully installed ngrok-0.0.1\n"
          ]
        }
      ]
    },
    {
      "cell_type": "code",
      "source": [
        "!ngrok config add-authtoken 28357G6bPDchrdxEikW6TDDWUvJ_JDSEg6xdDyfZ6kqK2Emx "
      ],
      "metadata": {
        "colab": {
          "base_uri": "https://localhost:8080/"
        },
        "id": "ZGlAymOKcPB5",
        "outputId": "3e1683b6-6073-476b-cd0e-fa39d79e015b"
      },
      "execution_count": 10,
      "outputs": [
        {
          "output_type": "stream",
          "name": "stdout",
          "text": [
            "NAME:\n",
            "   ngrok - tunnel local ports to public URLs and inspect traffic\n",
            "\n",
            "DESCRIPTION:\n",
            "    ngrok exposes local networked services behinds NATs and firewalls to the\n",
            "    public internet over a secure tunnel. Share local websites, build/test\n",
            "    webhook consumers and self-host personal services.\n",
            "    Detailed help for each command is available with 'ngrok help <command>'.\n",
            "    Open http://localhost:4040 for ngrok's web interface to inspect traffic.\n",
            "\n",
            "EXAMPLES:\n",
            "    ngrok http 80                    # secure public URL for port 80 web server\n",
            "    ngrok http -subdomain=baz 8080   # port 8080 available at baz.ngrok.io\n",
            "    ngrok http foo.dev:80            # tunnel to host:port instead of localhost\n",
            "    ngrok http https://localhost     # expose a local https server\n",
            "    ngrok tcp 22                     # tunnel arbitrary TCP traffic to port 22\n",
            "    ngrok tls -hostname=foo.com 443  # TLS traffic for foo.com to port 443\n",
            "    ngrok start foo bar baz          # start tunnels from the configuration file\n",
            "\n",
            "VERSION:\n",
            "   2.3.40\n",
            "\n",
            "AUTHOR:\n",
            "  inconshreveable - <alan@ngrok.com>\n",
            "\n",
            "COMMANDS:\n",
            "   authtoken\tsave authtoken to configuration file\n",
            "   credits\tprints author and licensing information\n",
            "   http\t\tstart an HTTP tunnel\n",
            "   start\tstart tunnels by name from the configuration file\n",
            "   tcp\t\tstart a TCP tunnel\n",
            "   tls\t\tstart a TLS tunnel\n",
            "   update\tupdate ngrok to the latest version\n",
            "   version\tprint the version string\n",
            "   help\t\tShows a list of commands or help for one command\n",
            "\n",
            "ERROR:  Unrecognized command: config\n"
          ]
        }
      ]
    },
    {
      "cell_type": "code",
      "source": [
        "!ngrok authtoken 28357G6bPDchrdxEikW6TDDWUvJ_JDSEg6xdDyfZ6kqK2Emx # add ngrok authtoken to config"
      ],
      "metadata": {
        "colab": {
          "base_uri": "https://localhost:8080/"
        },
        "id": "dPya5-ercWtp",
        "outputId": "daeec7ad-2194-4abf-9786-0640b2ed3b16"
      },
      "execution_count": 11,
      "outputs": [
        {
          "output_type": "stream",
          "name": "stdout",
          "text": [
            "Authtoken saved to configuration file: /root/.ngrok2/ngrok.yml\n"
          ]
        }
      ]
    },
    {
      "cell_type": "code",
      "source": [
        "!ngrok # intialize ngrok"
      ],
      "metadata": {
        "colab": {
          "base_uri": "https://localhost:8080/"
        },
        "id": "VfclwhcMcWwi",
        "outputId": "c374974f-4b48-47b0-90dc-76ebd6189d73"
      },
      "execution_count": 12,
      "outputs": [
        {
          "output_type": "stream",
          "name": "stdout",
          "text": [
            "NAME:\n",
            "   ngrok - tunnel local ports to public URLs and inspect traffic\n",
            "\n",
            "DESCRIPTION:\n",
            "    ngrok exposes local networked services behinds NATs and firewalls to the\n",
            "    public internet over a secure tunnel. Share local websites, build/test\n",
            "    webhook consumers and self-host personal services.\n",
            "    Detailed help for each command is available with 'ngrok help <command>'.\n",
            "    Open http://localhost:4040 for ngrok's web interface to inspect traffic.\n",
            "\n",
            "EXAMPLES:\n",
            "    ngrok http 80                    # secure public URL for port 80 web server\n",
            "    ngrok http -subdomain=baz 8080   # port 8080 available at baz.ngrok.io\n",
            "    ngrok http foo.dev:80            # tunnel to host:port instead of localhost\n",
            "    ngrok http https://localhost     # expose a local https server\n",
            "    ngrok tcp 22                     # tunnel arbitrary TCP traffic to port 22\n",
            "    ngrok tls -hostname=foo.com 443  # TLS traffic for foo.com to port 443\n",
            "    ngrok start foo bar baz          # start tunnels from the configuration file\n",
            "\n",
            "VERSION:\n",
            "   2.3.40\n",
            "\n",
            "AUTHOR:\n",
            "  inconshreveable - <alan@ngrok.com>\n",
            "\n",
            "COMMANDS:\n",
            "   authtoken\tsave authtoken to configuration file\n",
            "   credits\tprints author and licensing information\n",
            "   http\t\tstart an HTTP tunnel\n",
            "   start\tstart tunnels by name from the configuration file\n",
            "   tcp\t\tstart a TCP tunnel\n",
            "   tls\t\tstart a TLS tunnel\n",
            "   update\tupdate ngrok to the latest version\n",
            "   version\tprint the version string\n",
            "   help\t\tShows a list of commands or help for one command\n",
            "\n",
            "PYNGROK VERSION:\n",
            "   4.1.1\n"
          ]
        }
      ]
    },
    {
      "cell_type": "code",
      "source": [
        "from pyngrok import ngrok # import ngrok"
      ],
      "metadata": {
        "id": "KPmkNtdpchCC"
      },
      "execution_count": 13,
      "outputs": []
    },
    {
      "cell_type": "code",
      "source": [
        "!pgrep streamlit # search for current running process"
      ],
      "metadata": {
        "id": "miqaXx8PchEu"
      },
      "execution_count": 14,
      "outputs": []
    },
    {
      "cell_type": "code",
      "source": [
        "public_url = ngrok.connect(port = '8501') # connect ngrok to port 8501"
      ],
      "metadata": {
        "id": "Nj-ED4qtchHO"
      },
      "execution_count": 16,
      "outputs": []
    },
    {
      "cell_type": "code",
      "source": [
        "public_url # display url"
      ],
      "metadata": {
        "id": "ZfH-ZjTTchJl",
        "colab": {
          "base_uri": "https://localhost:8080/",
          "height": 36
        },
        "outputId": "5d9b3414-1410-49f9-82f5-7d893d9f5fd1"
      },
      "execution_count": 17,
      "outputs": [
        {
          "output_type": "execute_result",
          "data": {
            "text/plain": [
              "'http://b2e1-34-80-186-104.ngrok.io'"
            ],
            "application/vnd.google.colaboratory.intrinsic+json": {
              "type": "string"
            }
          },
          "metadata": {},
          "execution_count": 17
        }
      ]
    },
    {
      "cell_type": "code",
      "source": [
        "!streamlit run app.py &>/dev/null& # run streamlit application "
      ],
      "metadata": {
        "id": "IS1ZDZIdchNB"
      },
      "execution_count": 18,
      "outputs": []
    },
    {
      "cell_type": "code",
      "source": [
        "#!killall ngrok # kill all the process"
      ],
      "metadata": {
        "id": "EDt2UspicWz-",
        "colab": {
          "base_uri": "https://localhost:8080/"
        },
        "outputId": "a9411bba-1505-40fb-a412-3a9a80b3e663"
      },
      "execution_count": 15,
      "outputs": [
        {
          "output_type": "stream",
          "name": "stdout",
          "text": [
            "ngrok: no process found\n"
          ]
        }
      ]
    },
    {
      "cell_type": "code",
      "source": [
        ""
      ],
      "metadata": {
        "id": "BF4Lkh-zFKzL"
      },
      "execution_count": null,
      "outputs": []
    }
  ]
}